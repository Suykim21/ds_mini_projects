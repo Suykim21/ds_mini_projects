{
 "cells": [
  {
   "cell_type": "markdown",
   "metadata": {},
   "source": [
    "# Airbnb DS Analytics\n",
    "The purpose of this project is to analyze and identify opportunity areas and grow bookings in Rio de Janeiro. \n",
    "\n",
    "### OKR\n",
    "#### Objective 1 - Improving the guest-host matching process\n",
    "#### Objective 2 - Identifying areas of opportunities to increase bookings"
   ]
  },
  {
   "cell_type": "code",
   "execution_count": 1,
   "metadata": {},
   "outputs": [],
   "source": [
    "import pandas as pd\n",
    "import numpy as np\n",
    "\n",
    "# Visualization\n",
    "import matplotlib.pyplot as plt\n",
    "import seaborn as sns\n",
    "\n",
    "sns.set_theme(style=\"whitegrid\")\n",
    "\n",
    "# Ignore warnings\n",
    "import warnings\n",
    "warnings.filterwarnings('ignore')"
   ]
  },
  {
   "cell_type": "markdown",
   "metadata": {},
   "source": [
    "## 1. Import Data"
   ]
  },
  {
   "cell_type": "code",
   "execution_count": 2,
   "metadata": {},
   "outputs": [],
   "source": [
    "# Contains row for every time that a user makes an inquiry for a stay at a listing - Parsing date columns\n",
    "contacts_df = pd.read_csv('data/contacts.csv', \n",
    "                          parse_dates=['ts_interaction_first', 'ts_reply_at_first', 'ts_accepted_at_first', \n",
    "                                       'ts_booking_at', 'ds_checkin_first', 'ds_checkout_first']) \n",
    "\n",
    "# Contains data for every listing in the market\n",
    "listings_df = pd.read_csv('data/listings.csv')\n",
    "\n",
    "# Contains data for every user\n",
    "users_df = pd.read_csv('data/users.csv')"
   ]
  },
  {
   "cell_type": "markdown",
   "metadata": {},
   "source": [
    "## 2. Contacts\n",
    "- Understanding dataset.\n",
    "- Visualizing three different user groups and their booking types (contact_me, book_me, and instant_book).\n",
    "- Visualizing three different user groups' booking experience (inquiry to booking).\n",
    "- Visualizing host response rate to guests' inquiries and text characteristics.\n",
    "- Visualizing whether more interactions yields higher response/acceptance/booking rate."
   ]
  },
  {
   "cell_type": "markdown",
   "metadata": {},
   "source": [
    "### 2.1 Understanding dataset"
   ]
  },
  {
   "cell_type": "code",
   "execution_count": 3,
   "metadata": {},
   "outputs": [
    {
     "data": {
      "text/html": [
       "<div>\n",
       "<style scoped>\n",
       "    .dataframe tbody tr th:only-of-type {\n",
       "        vertical-align: middle;\n",
       "    }\n",
       "\n",
       "    .dataframe tbody tr th {\n",
       "        vertical-align: top;\n",
       "    }\n",
       "\n",
       "    .dataframe thead th {\n",
       "        text-align: right;\n",
       "    }\n",
       "</style>\n",
       "<table border=\"1\" class=\"dataframe\">\n",
       "  <thead>\n",
       "    <tr style=\"text-align: right;\">\n",
       "      <th></th>\n",
       "      <th>m_guests</th>\n",
       "      <th>m_interactions</th>\n",
       "      <th>m_first_message_length_in_characters</th>\n",
       "    </tr>\n",
       "  </thead>\n",
       "  <tbody>\n",
       "    <tr>\n",
       "      <th>count</th>\n",
       "      <td>27886.000000</td>\n",
       "      <td>27887.000000</td>\n",
       "      <td>27887.000000</td>\n",
       "    </tr>\n",
       "    <tr>\n",
       "      <th>mean</th>\n",
       "      <td>2.782041</td>\n",
       "      <td>8.255818</td>\n",
       "      <td>193.712626</td>\n",
       "    </tr>\n",
       "    <tr>\n",
       "      <th>std</th>\n",
       "      <td>1.863797</td>\n",
       "      <td>10.035784</td>\n",
       "      <td>183.172132</td>\n",
       "    </tr>\n",
       "    <tr>\n",
       "      <th>min</th>\n",
       "      <td>0.000000</td>\n",
       "      <td>1.000000</td>\n",
       "      <td>0.000000</td>\n",
       "    </tr>\n",
       "    <tr>\n",
       "      <th>25%</th>\n",
       "      <td>2.000000</td>\n",
       "      <td>3.000000</td>\n",
       "      <td>66.000000</td>\n",
       "    </tr>\n",
       "    <tr>\n",
       "      <th>50%</th>\n",
       "      <td>2.000000</td>\n",
       "      <td>5.000000</td>\n",
       "      <td>154.000000</td>\n",
       "    </tr>\n",
       "    <tr>\n",
       "      <th>75%</th>\n",
       "      <td>4.000000</td>\n",
       "      <td>10.000000</td>\n",
       "      <td>269.000000</td>\n",
       "    </tr>\n",
       "    <tr>\n",
       "      <th>max</th>\n",
       "      <td>16.000000</td>\n",
       "      <td>410.000000</td>\n",
       "      <td>2341.000000</td>\n",
       "    </tr>\n",
       "  </tbody>\n",
       "</table>\n",
       "</div>"
      ],
      "text/plain": [
       "           m_guests  m_interactions  m_first_message_length_in_characters\n",
       "count  27886.000000    27887.000000                          27887.000000\n",
       "mean       2.782041        8.255818                            193.712626\n",
       "std        1.863797       10.035784                            183.172132\n",
       "min        0.000000        1.000000                              0.000000\n",
       "25%        2.000000        3.000000                             66.000000\n",
       "50%        2.000000        5.000000                            154.000000\n",
       "75%        4.000000       10.000000                            269.000000\n",
       "max       16.000000      410.000000                           2341.000000"
      ]
     },
     "execution_count": 3,
     "metadata": {},
     "output_type": "execute_result"
    }
   ],
   "source": [
    "contacts_df.describe()"
   ]
  },
  {
   "cell_type": "code",
   "execution_count": 4,
   "metadata": {},
   "outputs": [
    {
     "name": "stdout",
     "output_type": "stream",
     "text": [
      "<class 'pandas.core.frame.DataFrame'>\n",
      "RangeIndex: 27887 entries, 0 to 27886\n",
      "Data columns (total 14 columns):\n",
      " #   Column                                Non-Null Count  Dtype         \n",
      "---  ------                                --------------  -----         \n",
      " 0   id_guest_anon                         27887 non-null  object        \n",
      " 1   id_host_anon                          27887 non-null  object        \n",
      " 2   id_listing_anon                       27887 non-null  object        \n",
      " 3   ts_interaction_first                  27887 non-null  datetime64[ns]\n",
      " 4   ts_reply_at_first                     25855 non-null  datetime64[ns]\n",
      " 5   ts_accepted_at_first                  16415 non-null  datetime64[ns]\n",
      " 6   ts_booking_at                         11587 non-null  datetime64[ns]\n",
      " 7   ds_checkin_first                      27887 non-null  datetime64[ns]\n",
      " 8   ds_checkout_first                     27887 non-null  datetime64[ns]\n",
      " 9   m_guests                              27886 non-null  float64       \n",
      " 10  m_interactions                        27887 non-null  int64         \n",
      " 11  m_first_message_length_in_characters  27887 non-null  float64       \n",
      " 12  contact_channel_first                 27887 non-null  object        \n",
      " 13  guest_user_stage_first                27887 non-null  object        \n",
      "dtypes: datetime64[ns](6), float64(2), int64(1), object(5)\n",
      "memory usage: 3.0+ MB\n"
     ]
    }
   ],
   "source": [
    "# Check datatype\n",
    "contacts_df.info()"
   ]
  },
  {
   "cell_type": "code",
   "execution_count": 5,
   "metadata": {},
   "outputs": [
    {
     "data": {
      "text/plain": [
       "id_guest_anon                               0\n",
       "id_host_anon                                0\n",
       "id_listing_anon                             0\n",
       "ts_interaction_first                        0\n",
       "ts_reply_at_first                        2032\n",
       "ts_accepted_at_first                    11472\n",
       "ts_booking_at                           16300\n",
       "ds_checkin_first                            0\n",
       "ds_checkout_first                           0\n",
       "m_guests                                    1\n",
       "m_interactions                              0\n",
       "m_first_message_length_in_characters        0\n",
       "contact_channel_first                       0\n",
       "guest_user_stage_first                      0\n",
       "dtype: int64"
      ]
     },
     "execution_count": 5,
     "metadata": {},
     "output_type": "execute_result"
    }
   ],
   "source": [
    "# Checking for NaNs\n",
    "contacts_df.isna().sum()"
   ]
  },
  {
   "cell_type": "code",
   "execution_count": 6,
   "metadata": {},
   "outputs": [
    {
     "data": {
      "text/plain": [
       "id_guest_anon                            0.000000\n",
       "id_host_anon                             0.000000\n",
       "id_listing_anon                          0.000000\n",
       "ts_interaction_first                     0.000000\n",
       "ts_reply_at_first                        7.286549\n",
       "ts_accepted_at_first                    41.137448\n",
       "ts_booking_at                           58.450174\n",
       "ds_checkin_first                         0.000000\n",
       "ds_checkout_first                        0.000000\n",
       "m_guests                                 0.003586\n",
       "m_interactions                           0.000000\n",
       "m_first_message_length_in_characters     0.000000\n",
       "contact_channel_first                    0.000000\n",
       "guest_user_stage_first                   0.000000\n",
       "dtype: float64"
      ]
     },
     "execution_count": 6,
     "metadata": {},
     "output_type": "execute_result"
    }
   ],
   "source": [
    "missing_percentage = contacts_df.isna().sum() * 100 / len(contacts_df)\n",
    "missing_percentage"
   ]
  },
  {
   "cell_type": "markdown",
   "metadata": {},
   "source": [
    "Majority of NaN values are comming from *ts_accepted_at_first* and *ts_booking_at* columns."
   ]
  },
  {
   "cell_type": "markdown",
   "metadata": {},
   "source": [
    "There are four columns that contains NaT values:\n",
    "- **ts_reply_at_first**: UTC timestamp of the moment the host replies to the inquiry.\n",
    "- **ts_accepted_at_first**: UTC timestamp of the moment the host accepts the inquiry.\n",
    "- **ts_booking_at**: UTC timestamp of the moment the host booking is made.\n",
    "- **m_guests**: Number of guests the inquiry is for."
   ]
  },
  {
   "cell_type": "code",
   "execution_count": 7,
   "metadata": {},
   "outputs": [
    {
     "data": {
      "text/html": [
       "<div>\n",
       "<style scoped>\n",
       "    .dataframe tbody tr th:only-of-type {\n",
       "        vertical-align: middle;\n",
       "    }\n",
       "\n",
       "    .dataframe tbody tr th {\n",
       "        vertical-align: top;\n",
       "    }\n",
       "\n",
       "    .dataframe thead th {\n",
       "        text-align: right;\n",
       "    }\n",
       "</style>\n",
       "<table border=\"1\" class=\"dataframe\">\n",
       "  <thead>\n",
       "    <tr style=\"text-align: right;\">\n",
       "      <th></th>\n",
       "      <th>id_guest_anon</th>\n",
       "      <th>id_host_anon</th>\n",
       "      <th>id_listing_anon</th>\n",
       "      <th>ts_interaction_first</th>\n",
       "      <th>ts_reply_at_first</th>\n",
       "      <th>ts_accepted_at_first</th>\n",
       "      <th>ts_booking_at</th>\n",
       "      <th>ds_checkin_first</th>\n",
       "      <th>ds_checkout_first</th>\n",
       "      <th>m_guests</th>\n",
       "      <th>m_interactions</th>\n",
       "      <th>m_first_message_length_in_characters</th>\n",
       "      <th>contact_channel_first</th>\n",
       "      <th>guest_user_stage_first</th>\n",
       "    </tr>\n",
       "  </thead>\n",
       "  <tbody>\n",
       "    <tr>\n",
       "      <th>1</th>\n",
       "      <td>8590d6f1-8bc9-4e8b-bdfb-de78f69fcf37</td>\n",
       "      <td>f30417c5-6df4-45ac-bfc2-6ad1cce398ab</td>\n",
       "      <td>e387c705-0aeb-464c-9375-ece63be6f006</td>\n",
       "      <td>2016-02-16 22:14:01</td>\n",
       "      <td>2016-02-16 23:37:36</td>\n",
       "      <td>NaT</td>\n",
       "      <td>NaT</td>\n",
       "      <td>2016-08-11</td>\n",
       "      <td>2016-08-22</td>\n",
       "      <td>5.0</td>\n",
       "      <td>2</td>\n",
       "      <td>312.0</td>\n",
       "      <td>contact_me</td>\n",
       "      <td>past_booker</td>\n",
       "    </tr>\n",
       "    <tr>\n",
       "      <th>2</th>\n",
       "      <td>ebcd83ba-bda1-47eb-9680-2dd04ccf3988</td>\n",
       "      <td>13cbf50a-3272-45d4-9866-a06b6ea1b99a</td>\n",
       "      <td>d1eb1960-938f-4305-a353-51e224414dd4</td>\n",
       "      <td>2016-01-27 23:33:38</td>\n",
       "      <td>2016-01-28 02:12:47</td>\n",
       "      <td>NaT</td>\n",
       "      <td>NaT</td>\n",
       "      <td>2016-03-14</td>\n",
       "      <td>2016-03-23</td>\n",
       "      <td>1.0</td>\n",
       "      <td>3</td>\n",
       "      <td>164.0</td>\n",
       "      <td>contact_me</td>\n",
       "      <td>new</td>\n",
       "    </tr>\n",
       "    <tr>\n",
       "      <th>3</th>\n",
       "      <td>b0af8848-fe2a-4ef1-991e-26ab3066feb3</td>\n",
       "      <td>01614601-d5a4-4776-ab9b-c10d3b865bf0</td>\n",
       "      <td>855f6779-346c-45fc-a64b-ea133250ca7a</td>\n",
       "      <td>2016-05-05 14:42:52</td>\n",
       "      <td>2016-05-05 15:17:40</td>\n",
       "      <td>2016-05-05 15:17:40</td>\n",
       "      <td>NaT</td>\n",
       "      <td>2016-05-27</td>\n",
       "      <td>2016-05-29</td>\n",
       "      <td>2.0</td>\n",
       "      <td>3</td>\n",
       "      <td>203.0</td>\n",
       "      <td>contact_me</td>\n",
       "      <td>new</td>\n",
       "    </tr>\n",
       "    <tr>\n",
       "      <th>5</th>\n",
       "      <td>25940fca-7aa9-480d-9cf0-56cc1136d30c</td>\n",
       "      <td>90334ef3-f489-45a0-89e0-d18d370e4a1c</td>\n",
       "      <td>5dd24057-774c-45b3-b305-ebf664246952</td>\n",
       "      <td>2016-04-19 07:08:21</td>\n",
       "      <td>2016-04-19 11:32:23</td>\n",
       "      <td>NaT</td>\n",
       "      <td>NaT</td>\n",
       "      <td>2016-04-26</td>\n",
       "      <td>2016-05-01</td>\n",
       "      <td>1.0</td>\n",
       "      <td>7</td>\n",
       "      <td>348.0</td>\n",
       "      <td>contact_me</td>\n",
       "      <td>new</td>\n",
       "    </tr>\n",
       "    <tr>\n",
       "      <th>6</th>\n",
       "      <td>ee6633e1-96de-47f6-96e7-d962fc6db7dd</td>\n",
       "      <td>10dc3fc4-694f-44b2-aaac-9dbace0ebabd</td>\n",
       "      <td>259d4a6c-dcda-4ff2-85cb-2882f6801b3a</td>\n",
       "      <td>2016-05-30 15:16:21</td>\n",
       "      <td>2016-05-30 15:18:55</td>\n",
       "      <td>2016-06-01 23:38:20</td>\n",
       "      <td>NaT</td>\n",
       "      <td>2016-08-06</td>\n",
       "      <td>2016-08-14</td>\n",
       "      <td>6.0</td>\n",
       "      <td>7</td>\n",
       "      <td>29.0</td>\n",
       "      <td>contact_me</td>\n",
       "      <td>past_booker</td>\n",
       "    </tr>\n",
       "  </tbody>\n",
       "</table>\n",
       "</div>"
      ],
      "text/plain": [
       "                          id_guest_anon                          id_host_anon  \\\n",
       "1  8590d6f1-8bc9-4e8b-bdfb-de78f69fcf37  f30417c5-6df4-45ac-bfc2-6ad1cce398ab   \n",
       "2  ebcd83ba-bda1-47eb-9680-2dd04ccf3988  13cbf50a-3272-45d4-9866-a06b6ea1b99a   \n",
       "3  b0af8848-fe2a-4ef1-991e-26ab3066feb3  01614601-d5a4-4776-ab9b-c10d3b865bf0   \n",
       "5  25940fca-7aa9-480d-9cf0-56cc1136d30c  90334ef3-f489-45a0-89e0-d18d370e4a1c   \n",
       "6  ee6633e1-96de-47f6-96e7-d962fc6db7dd  10dc3fc4-694f-44b2-aaac-9dbace0ebabd   \n",
       "\n",
       "                        id_listing_anon ts_interaction_first  \\\n",
       "1  e387c705-0aeb-464c-9375-ece63be6f006  2016-02-16 22:14:01   \n",
       "2  d1eb1960-938f-4305-a353-51e224414dd4  2016-01-27 23:33:38   \n",
       "3  855f6779-346c-45fc-a64b-ea133250ca7a  2016-05-05 14:42:52   \n",
       "5  5dd24057-774c-45b3-b305-ebf664246952  2016-04-19 07:08:21   \n",
       "6  259d4a6c-dcda-4ff2-85cb-2882f6801b3a  2016-05-30 15:16:21   \n",
       "\n",
       "    ts_reply_at_first ts_accepted_at_first ts_booking_at ds_checkin_first  \\\n",
       "1 2016-02-16 23:37:36                  NaT           NaT       2016-08-11   \n",
       "2 2016-01-28 02:12:47                  NaT           NaT       2016-03-14   \n",
       "3 2016-05-05 15:17:40  2016-05-05 15:17:40           NaT       2016-05-27   \n",
       "5 2016-04-19 11:32:23                  NaT           NaT       2016-04-26   \n",
       "6 2016-05-30 15:18:55  2016-06-01 23:38:20           NaT       2016-08-06   \n",
       "\n",
       "  ds_checkout_first  m_guests  m_interactions  \\\n",
       "1        2016-08-22       5.0               2   \n",
       "2        2016-03-23       1.0               3   \n",
       "3        2016-05-29       2.0               3   \n",
       "5        2016-05-01       1.0               7   \n",
       "6        2016-08-14       6.0               7   \n",
       "\n",
       "   m_first_message_length_in_characters contact_channel_first  \\\n",
       "1                                 312.0            contact_me   \n",
       "2                                 164.0            contact_me   \n",
       "3                                 203.0            contact_me   \n",
       "5                                 348.0            contact_me   \n",
       "6                                  29.0            contact_me   \n",
       "\n",
       "  guest_user_stage_first  \n",
       "1            past_booker  \n",
       "2                    new  \n",
       "3                    new  \n",
       "5                    new  \n",
       "6            past_booker  "
      ]
     },
     "execution_count": 7,
     "metadata": {},
     "output_type": "execute_result"
    }
   ],
   "source": [
    "# Checking all columns with NaT\n",
    "contacts_df[contacts_df.isna().any(axis=1)].head(5)"
   ]
  },
  {
   "cell_type": "code",
   "execution_count": 8,
   "metadata": {},
   "outputs": [
    {
     "data": {
      "text/html": [
       "<div>\n",
       "<style scoped>\n",
       "    .dataframe tbody tr th:only-of-type {\n",
       "        vertical-align: middle;\n",
       "    }\n",
       "\n",
       "    .dataframe tbody tr th {\n",
       "        vertical-align: top;\n",
       "    }\n",
       "\n",
       "    .dataframe thead th {\n",
       "        text-align: right;\n",
       "    }\n",
       "</style>\n",
       "<table border=\"1\" class=\"dataframe\">\n",
       "  <thead>\n",
       "    <tr style=\"text-align: right;\">\n",
       "      <th></th>\n",
       "      <th>id_guest_anon</th>\n",
       "      <th>id_host_anon</th>\n",
       "      <th>id_listing_anon</th>\n",
       "      <th>ts_interaction_first</th>\n",
       "      <th>ts_reply_at_first</th>\n",
       "      <th>ts_accepted_at_first</th>\n",
       "      <th>ts_booking_at</th>\n",
       "      <th>ds_checkin_first</th>\n",
       "      <th>ds_checkout_first</th>\n",
       "      <th>m_guests</th>\n",
       "      <th>m_interactions</th>\n",
       "      <th>m_first_message_length_in_characters</th>\n",
       "      <th>contact_channel_first</th>\n",
       "      <th>guest_user_stage_first</th>\n",
       "    </tr>\n",
       "  </thead>\n",
       "  <tbody>\n",
       "    <tr>\n",
       "      <th>24738</th>\n",
       "      <td>abc1b137-28b0-4337-a93c-ed77c16f49d8</td>\n",
       "      <td>1a260779-97eb-4c3f-a020-c09a094033a4</td>\n",
       "      <td>f4ada617-3298-4c78-97ee-104edd981e09</td>\n",
       "      <td>2016-01-11 12:08:54</td>\n",
       "      <td>2016-01-12 17:48:59</td>\n",
       "      <td>NaT</td>\n",
       "      <td>NaT</td>\n",
       "      <td>2016-01-22</td>\n",
       "      <td>2016-01-25</td>\n",
       "      <td>NaN</td>\n",
       "      <td>3</td>\n",
       "      <td>134.0</td>\n",
       "      <td>contact_me</td>\n",
       "      <td>past_booker</td>\n",
       "    </tr>\n",
       "  </tbody>\n",
       "</table>\n",
       "</div>"
      ],
      "text/plain": [
       "                              id_guest_anon  \\\n",
       "24738  abc1b137-28b0-4337-a93c-ed77c16f49d8   \n",
       "\n",
       "                               id_host_anon  \\\n",
       "24738  1a260779-97eb-4c3f-a020-c09a094033a4   \n",
       "\n",
       "                            id_listing_anon ts_interaction_first  \\\n",
       "24738  f4ada617-3298-4c78-97ee-104edd981e09  2016-01-11 12:08:54   \n",
       "\n",
       "        ts_reply_at_first ts_accepted_at_first ts_booking_at ds_checkin_first  \\\n",
       "24738 2016-01-12 17:48:59                  NaT           NaT       2016-01-22   \n",
       "\n",
       "      ds_checkout_first  m_guests  m_interactions  \\\n",
       "24738        2016-01-25       NaN               3   \n",
       "\n",
       "       m_first_message_length_in_characters contact_channel_first  \\\n",
       "24738                                 134.0            contact_me   \n",
       "\n",
       "      guest_user_stage_first  \n",
       "24738            past_booker  "
      ]
     },
     "execution_count": 8,
     "metadata": {},
     "output_type": "execute_result"
    }
   ],
   "source": [
    "# Check one row where m_guests has NaT value\n",
    "contacts_df[contacts_df['m_guests'].isna()].head()"
   ]
  },
  {
   "cell_type": "code",
   "execution_count": 9,
   "metadata": {},
   "outputs": [
    {
     "data": {
      "text/html": [
       "<div>\n",
       "<style scoped>\n",
       "    .dataframe tbody tr th:only-of-type {\n",
       "        vertical-align: middle;\n",
       "    }\n",
       "\n",
       "    .dataframe tbody tr th {\n",
       "        vertical-align: top;\n",
       "    }\n",
       "\n",
       "    .dataframe thead th {\n",
       "        text-align: right;\n",
       "    }\n",
       "</style>\n",
       "<table border=\"1\" class=\"dataframe\">\n",
       "  <thead>\n",
       "    <tr style=\"text-align: right;\">\n",
       "      <th></th>\n",
       "      <th>id_guest_anon</th>\n",
       "      <th>id_host_anon</th>\n",
       "      <th>id_listing_anon</th>\n",
       "      <th>ts_interaction_first</th>\n",
       "      <th>ts_reply_at_first</th>\n",
       "      <th>ts_accepted_at_first</th>\n",
       "      <th>ts_booking_at</th>\n",
       "      <th>ds_checkin_first</th>\n",
       "      <th>ds_checkout_first</th>\n",
       "      <th>m_guests</th>\n",
       "      <th>m_interactions</th>\n",
       "      <th>m_first_message_length_in_characters</th>\n",
       "      <th>contact_channel_first</th>\n",
       "      <th>guest_user_stage_first</th>\n",
       "    </tr>\n",
       "  </thead>\n",
       "  <tbody>\n",
       "    <tr>\n",
       "      <th>16</th>\n",
       "      <td>bcd2c6bb-c5bf-484a-9cfc-ba13b8a0a9be</td>\n",
       "      <td>d5bcd535-92a1-4337-9148-6b53ce87c311</td>\n",
       "      <td>7e367f14-45a8-4a7c-a328-3e151cf71fed</td>\n",
       "      <td>2016-01-07 06:12:42</td>\n",
       "      <td>NaT</td>\n",
       "      <td>NaT</td>\n",
       "      <td>NaT</td>\n",
       "      <td>2016-08-08</td>\n",
       "      <td>2016-08-18</td>\n",
       "      <td>3.0</td>\n",
       "      <td>2</td>\n",
       "      <td>196.0</td>\n",
       "      <td>book_it</td>\n",
       "      <td>new</td>\n",
       "    </tr>\n",
       "    <tr>\n",
       "      <th>30</th>\n",
       "      <td>57a896e1-95cb-4682-8ff9-7780817b1fbe</td>\n",
       "      <td>fd1d1258-12a6-4996-9313-d227328ad612</td>\n",
       "      <td>2383653d-1c82-4426-a3ea-e8e47052f4c5</td>\n",
       "      <td>2016-01-22 11:13:42</td>\n",
       "      <td>NaT</td>\n",
       "      <td>NaT</td>\n",
       "      <td>NaT</td>\n",
       "      <td>2016-02-06</td>\n",
       "      <td>2016-02-09</td>\n",
       "      <td>4.0</td>\n",
       "      <td>2</td>\n",
       "      <td>83.0</td>\n",
       "      <td>contact_me</td>\n",
       "      <td>past_booker</td>\n",
       "    </tr>\n",
       "    <tr>\n",
       "      <th>33</th>\n",
       "      <td>6faf4e06-aecd-4401-9c1e-a688bae85e22</td>\n",
       "      <td>d872b6fe-f1d1-403c-8392-55bfa9fabf45</td>\n",
       "      <td>263a9917-524d-4862-8dd6-76c56f0986bd</td>\n",
       "      <td>2016-06-29 01:35:06</td>\n",
       "      <td>NaT</td>\n",
       "      <td>NaT</td>\n",
       "      <td>NaT</td>\n",
       "      <td>2016-08-06</td>\n",
       "      <td>2016-08-19</td>\n",
       "      <td>1.0</td>\n",
       "      <td>1</td>\n",
       "      <td>201.0</td>\n",
       "      <td>book_it</td>\n",
       "      <td>past_booker</td>\n",
       "    </tr>\n",
       "    <tr>\n",
       "      <th>42</th>\n",
       "      <td>fc49dae9-f3e1-418a-9e34-3e73e54a89fc</td>\n",
       "      <td>a3803a5b-5a5d-444f-a0a6-a03ed6a9e845</td>\n",
       "      <td>c92711bf-23a0-4527-99c2-08bad0f61484</td>\n",
       "      <td>2016-04-01 14:08:56</td>\n",
       "      <td>NaT</td>\n",
       "      <td>NaT</td>\n",
       "      <td>NaT</td>\n",
       "      <td>2016-08-12</td>\n",
       "      <td>2016-08-18</td>\n",
       "      <td>6.0</td>\n",
       "      <td>1</td>\n",
       "      <td>240.0</td>\n",
       "      <td>book_it</td>\n",
       "      <td>past_booker</td>\n",
       "    </tr>\n",
       "    <tr>\n",
       "      <th>124</th>\n",
       "      <td>0b55d884-f528-47df-935f-e766d7059562</td>\n",
       "      <td>45f6c9de-675f-4549-b163-5d27e362b905</td>\n",
       "      <td>aa542203-87fe-4375-a76f-b8c54cd4f773</td>\n",
       "      <td>2016-01-04 22:59:40</td>\n",
       "      <td>NaT</td>\n",
       "      <td>NaT</td>\n",
       "      <td>NaT</td>\n",
       "      <td>2016-02-05</td>\n",
       "      <td>2016-02-10</td>\n",
       "      <td>1.0</td>\n",
       "      <td>3</td>\n",
       "      <td>118.0</td>\n",
       "      <td>contact_me</td>\n",
       "      <td>new</td>\n",
       "    </tr>\n",
       "  </tbody>\n",
       "</table>\n",
       "</div>"
      ],
      "text/plain": [
       "                            id_guest_anon  \\\n",
       "16   bcd2c6bb-c5bf-484a-9cfc-ba13b8a0a9be   \n",
       "30   57a896e1-95cb-4682-8ff9-7780817b1fbe   \n",
       "33   6faf4e06-aecd-4401-9c1e-a688bae85e22   \n",
       "42   fc49dae9-f3e1-418a-9e34-3e73e54a89fc   \n",
       "124  0b55d884-f528-47df-935f-e766d7059562   \n",
       "\n",
       "                             id_host_anon  \\\n",
       "16   d5bcd535-92a1-4337-9148-6b53ce87c311   \n",
       "30   fd1d1258-12a6-4996-9313-d227328ad612   \n",
       "33   d872b6fe-f1d1-403c-8392-55bfa9fabf45   \n",
       "42   a3803a5b-5a5d-444f-a0a6-a03ed6a9e845   \n",
       "124  45f6c9de-675f-4549-b163-5d27e362b905   \n",
       "\n",
       "                          id_listing_anon ts_interaction_first  \\\n",
       "16   7e367f14-45a8-4a7c-a328-3e151cf71fed  2016-01-07 06:12:42   \n",
       "30   2383653d-1c82-4426-a3ea-e8e47052f4c5  2016-01-22 11:13:42   \n",
       "33   263a9917-524d-4862-8dd6-76c56f0986bd  2016-06-29 01:35:06   \n",
       "42   c92711bf-23a0-4527-99c2-08bad0f61484  2016-04-01 14:08:56   \n",
       "124  aa542203-87fe-4375-a76f-b8c54cd4f773  2016-01-04 22:59:40   \n",
       "\n",
       "    ts_reply_at_first ts_accepted_at_first ts_booking_at ds_checkin_first  \\\n",
       "16                NaT                  NaT           NaT       2016-08-08   \n",
       "30                NaT                  NaT           NaT       2016-02-06   \n",
       "33                NaT                  NaT           NaT       2016-08-06   \n",
       "42                NaT                  NaT           NaT       2016-08-12   \n",
       "124               NaT                  NaT           NaT       2016-02-05   \n",
       "\n",
       "    ds_checkout_first  m_guests  m_interactions  \\\n",
       "16         2016-08-18       3.0               2   \n",
       "30         2016-02-09       4.0               2   \n",
       "33         2016-08-19       1.0               1   \n",
       "42         2016-08-18       6.0               1   \n",
       "124        2016-02-10       1.0               3   \n",
       "\n",
       "     m_first_message_length_in_characters contact_channel_first  \\\n",
       "16                                  196.0               book_it   \n",
       "30                                   83.0            contact_me   \n",
       "33                                  201.0               book_it   \n",
       "42                                  240.0               book_it   \n",
       "124                                 118.0            contact_me   \n",
       "\n",
       "    guest_user_stage_first  \n",
       "16                     new  \n",
       "30             past_booker  \n",
       "33             past_booker  \n",
       "42             past_booker  \n",
       "124                    new  "
      ]
     },
     "execution_count": 9,
     "metadata": {},
     "output_type": "execute_result"
    }
   ],
   "source": [
    "# Displaying rows with NaT values\n",
    "contacts_df[contacts_df['ts_reply_at_first'].isna()].head()"
   ]
  },
  {
   "cell_type": "markdown",
   "metadata": {},
   "source": [
    "Seeing the dataframe above, I can theorize why aforementioned have NaT values:\n",
    "\n",
    "1. Host did not respond back to the guest, therefore not having reply datetime as well as accepted datetime.\n",
    "2. Host responded to guest inquiry but did not agree on other conditions therefore not having accepted datetime.\n",
    "3. Host responded to guest inquiry, agreed to terms and conditions between guest and host, but guest did not commit to a trip.\n",
    "4. Host responded to guest inquiry but the guest did not include number of guests.\n",
    "\n",
    "Since we are looking into ways to increase bookings; these NaT values may give us some idea on which contact types are effective or not."
   ]
  },
  {
   "cell_type": "markdown",
   "metadata": {},
   "source": [
    "### 2.2 Visualizing three different user groups and their booking types (contact_me, book_me, and instant_book)\n",
    "- **new**: New Users\n",
    "- **past_booker**: Returning Users - who booked previously\n",
    "- **-unknown-**: Not identifiable"
   ]
  },
  {
   "cell_type": "code",
   "execution_count": 10,
   "metadata": {},
   "outputs": [],
   "source": [
    "guest_series = contacts_df.groupby('guest_user_stage_first')['guest_user_stage_first'].count()\n",
    "guest_types = guest_series.index\n",
    "\n",
    "data = {'guest_type': guest_types, 'count': guest_series.values}\n",
    "guest_cnt_df = pd.DataFrame(data)"
   ]
  },
  {
   "cell_type": "code",
   "execution_count": 11,
   "metadata": {},
   "outputs": [
    {
     "data": {
      "image/png": "[encoded data removed]",
      "text/plain": [
       "<Figure size 432x288 with 1 Axes>"
      ]
     },
     "metadata": {},
     "output_type": "display_data"
    }
   ],
   "source": [
    "sns.barplot(x='guest_type', y='count', data=guest_cnt_df);"
   ]
  },
  {
   "cell_type": "markdown",
   "metadata": {},
   "source": [
    "There are more new users compared to returning users. Let's visualize how each user group books their listing.\n",
    "- **contact_me**: Guests writes a message to the host to inquire about the listing and host can either reject, accept, or respond meesage back to guests without explicit acceptance or rejection. \n",
    "- **book_it**: Guests puts down the money directly to the host and host accepts or rejects reservation requests.\n",
    "- **instant_book**: The guest books the listing directly without any approval from the host (auto-accepted by the host)."
   ]
  },
  {
   "cell_type": "code",
   "execution_count": 12,
   "metadata": {},
   "outputs": [],
   "source": [
    "# Group by user group\n",
    "grp_df = contacts_df.groupby(['guest_user_stage_first'])\n",
    "\n",
    "# Count based on contact channel's values per each user group\n",
    "new_users_series = grp_df.get_group('new')['contact_channel_first'].value_counts().sort_index()\n",
    "return_users_series = grp_df.get_group('past_booker')['contact_channel_first'].value_counts().sort_index()\n",
    "unknown_users_series = grp_df.get_group('-unknown-')['contact_channel_first'].value_counts().sort_index()\n",
    "\n",
    "# Create dataframe to be used for plotting\n",
    "new_users_df = pd.DataFrame({'contact_channels': new_users_series.index, 'count': new_users_series.values})\n",
    "return_users_df = pd.DataFrame({'contact_channels': return_users_series.index, 'count': return_users_series.values})\n",
    "unknown_users_df = pd.DataFrame({'contact_channels': unknown_users_series.index, 'count': unknown_users_series.values})"
   ]
  },
  {
   "cell_type": "code",
   "execution_count": 13,
   "metadata": {},
   "outputs": [
    {
     "data": {
      "image/png": "[encoded data removed]",
      "text/plain": [
       "<Figure size 1440x288 with 3 Axes>"
      ]
     },
     "metadata": {},
     "output_type": "display_data"
    }
   ],
   "source": [
    "plt.figure(figsize=(20,4)) # width and height in inches\n",
    "\n",
    "# Unknown users group\n",
    "ax_one = plt.subplot(1,3,1) # nrows, ncols, index\n",
    "sns.barplot(x='contact_channels', y='count', data=unknown_users_df, ax=ax_one)\n",
    "ax_one.set(xlabel='contact_channels', ylabel='count', title=\"Unknown Users' Contact Methods\")\n",
    "\n",
    "# New users group\n",
    "ax_two = plt.subplot(1,3,2)\n",
    "sns.barplot(x='contact_channels', y='count', data=new_users_df, ax=ax_two)\n",
    "ax_two.set(xlabel='contact_channels', ylabel='count', title=\"New User's Contact Methods\");\n",
    "\n",
    "# Return users group\n",
    "ax_three = plt.subplot(1,3,3)\n",
    "sns.barplot(x='contact_channels', y='count', data=return_users_df, ax=ax_three)\n",
    "ax_three.set(xlabel='contact_channels', ylabel='count', title=\"Return Users' Contact Methods\");"
   ]
  },
  {
   "cell_type": "markdown",
   "metadata": {},
   "source": [
    "Majority of unknown and return user groups book listing through *book_it* where guest puts money down without inquiry and awaits for host to accept or reject while new user group uses *contact_me* which is booking through inquiry. It's also interesting to note that new user rarely uses *instant_book* feature compared to other two user groups, presumably because new users are unsure of the platform or its services."
   ]
  },
  {
   "cell_type": "markdown",
   "metadata": {},
   "source": [
    "### 2.3 Visualizing three different user groups' booking experience (inquiry to booking)\n",
    "I will be inspecting four columns and identify which part of booking cycle where guest get dropped off without completing the booking:\n",
    "- **ts_interaction_first**: Moment the inquiry is made the guest.\n",
    "- **ts_reply_at_first**: Moment the host replies to the inquiry.\n",
    "- **ts_accepted_at_first**: Moment host accepts the inquiry.\n",
    "- **ts_booking_at**: Moment booking is made."
   ]
  },
  {
   "cell_type": "code",
   "execution_count": 14,
   "metadata": {},
   "outputs": [],
   "source": [
    "# Getting three dataframes representing user types (new, past_booker, unknown)\n",
    "new_users_df = contacts_df[contacts_df['guest_user_stage_first'] == 'new']\n",
    "return_users_df = contacts_df[contacts_df['guest_user_stage_first'] == 'past_booker']\n",
    "unknown_users_df = contacts_df[contacts_df['guest_user_stage_first'] == '-unknown-']"
   ]
  },
  {
   "cell_type": "code",
   "execution_count": 15,
   "metadata": {},
   "outputs": [],
   "source": [
    "# Counting number of rows that contains NaT values\n",
    "def count_nats(df):\n",
    "    '''\n",
    "    Builds dataframe consisting of 4 columns related to booking cycle with NaT count values.\n",
    "    \n",
    "    Parameters\n",
    "    ----------\n",
    "    df: pandas.DataFrame\n",
    "        contacts DataFrame\n",
    "    Returns\n",
    "    -------\n",
    "    menu_df: pandas.DataFrame\n",
    "        DataFrame with ts_interaction_first, ts_reply_at_first, ts_accepted_at_first, and ts_booking_at columns\n",
    "    '''\n",
    "    nat_count = df[df['ts_interaction_first'].isna()].shape[0]\n",
    "    nat_count_two = df[df['ts_reply_at_first'].isna()].shape[0]\n",
    "    nat_count_three = df[df['ts_accepted_at_first'].isna()].shape[0]\n",
    "    nat_count_four = df[df['ts_booking_at'].isna()].shape[0]\n",
    "    \n",
    "    data = {'booking_cycle': ['ts_interaction_first', 'ts_reply_at_first', 'ts_accepted_at_first', 'ts_booking_at'],\n",
    "            'count': [nat_count, nat_count_two, nat_count_three, nat_count_four]}\n",
    "    \n",
    "    guest_type = df['guest_user_stage_first'].values[0] # new, past_booker, -unknown-\n",
    "    \n",
    "    df = pd.DataFrame(data)\n",
    "    df['guest_type'] = guest_type\n",
    "    \n",
    "    return df"
   ]
  },
  {
   "cell_type": "code",
   "execution_count": 16,
   "metadata": {},
   "outputs": [],
   "source": [
    "new_users_df = count_nats(new_users_df)\n",
    "return_users_df = count_nats(return_users_df)\n",
    "unknown_users_df = count_nats(unknown_users_df)"
   ]
  },
  {
   "cell_type": "code",
   "execution_count": 17,
   "metadata": {},
   "outputs": [
    {
     "data": {
      "text/html": [
       "<div>\n",
       "<style scoped>\n",
       "    .dataframe tbody tr th:only-of-type {\n",
       "        vertical-align: middle;\n",
       "    }\n",
       "\n",
       "    .dataframe tbody tr th {\n",
       "        vertical-align: top;\n",
       "    }\n",
       "\n",
       "    .dataframe thead th {\n",
       "        text-align: right;\n",
       "    }\n",
       "</style>\n",
       "<table border=\"1\" class=\"dataframe\">\n",
       "  <thead>\n",
       "    <tr style=\"text-align: right;\">\n",
       "      <th></th>\n",
       "      <th>booking_cycle</th>\n",
       "      <th>count</th>\n",
       "      <th>guest_type</th>\n",
       "    </tr>\n",
       "  </thead>\n",
       "  <tbody>\n",
       "    <tr>\n",
       "      <th>0</th>\n",
       "      <td>ts_interaction_first</td>\n",
       "      <td>0</td>\n",
       "      <td>new</td>\n",
       "    </tr>\n",
       "    <tr>\n",
       "      <th>1</th>\n",
       "      <td>ts_reply_at_first</td>\n",
       "      <td>1269</td>\n",
       "      <td>new</td>\n",
       "    </tr>\n",
       "    <tr>\n",
       "      <th>2</th>\n",
       "      <td>ts_accepted_at_first</td>\n",
       "      <td>7274</td>\n",
       "      <td>new</td>\n",
       "    </tr>\n",
       "    <tr>\n",
       "      <th>3</th>\n",
       "      <td>ts_booking_at</td>\n",
       "      <td>10620</td>\n",
       "      <td>new</td>\n",
       "    </tr>\n",
       "    <tr>\n",
       "      <th>4</th>\n",
       "      <td>ts_interaction_first</td>\n",
       "      <td>0</td>\n",
       "      <td>past_booker</td>\n",
       "    </tr>\n",
       "    <tr>\n",
       "      <th>5</th>\n",
       "      <td>ts_reply_at_first</td>\n",
       "      <td>760</td>\n",
       "      <td>past_booker</td>\n",
       "    </tr>\n",
       "    <tr>\n",
       "      <th>6</th>\n",
       "      <td>ts_accepted_at_first</td>\n",
       "      <td>4181</td>\n",
       "      <td>past_booker</td>\n",
       "    </tr>\n",
       "    <tr>\n",
       "      <th>7</th>\n",
       "      <td>ts_booking_at</td>\n",
       "      <td>5659</td>\n",
       "      <td>past_booker</td>\n",
       "    </tr>\n",
       "    <tr>\n",
       "      <th>8</th>\n",
       "      <td>ts_interaction_first</td>\n",
       "      <td>0</td>\n",
       "      <td>-unknown-</td>\n",
       "    </tr>\n",
       "    <tr>\n",
       "      <th>9</th>\n",
       "      <td>ts_reply_at_first</td>\n",
       "      <td>3</td>\n",
       "      <td>-unknown-</td>\n",
       "    </tr>\n",
       "    <tr>\n",
       "      <th>10</th>\n",
       "      <td>ts_accepted_at_first</td>\n",
       "      <td>17</td>\n",
       "      <td>-unknown-</td>\n",
       "    </tr>\n",
       "    <tr>\n",
       "      <th>11</th>\n",
       "      <td>ts_booking_at</td>\n",
       "      <td>21</td>\n",
       "      <td>-unknown-</td>\n",
       "    </tr>\n",
       "  </tbody>\n",
       "</table>\n",
       "</div>"
      ],
      "text/plain": [
       "           booking_cycle  count   guest_type\n",
       "0   ts_interaction_first      0          new\n",
       "1      ts_reply_at_first   1269          new\n",
       "2   ts_accepted_at_first   7274          new\n",
       "3          ts_booking_at  10620          new\n",
       "4   ts_interaction_first      0  past_booker\n",
       "5      ts_reply_at_first    760  past_booker\n",
       "6   ts_accepted_at_first   4181  past_booker\n",
       "7          ts_booking_at   5659  past_booker\n",
       "8   ts_interaction_first      0    -unknown-\n",
       "9      ts_reply_at_first      3    -unknown-\n",
       "10  ts_accepted_at_first     17    -unknown-\n",
       "11         ts_booking_at     21    -unknown-"
      ]
     },
     "execution_count": 17,
     "metadata": {},
     "output_type": "execute_result"
    }
   ],
   "source": [
    "# Combine all users dataframe\n",
    "users_df = pd.concat([new_users_df, return_users_df, unknown_users_df]).reset_index(drop=True)\n",
    "users_df"
   ]
  },
  {
   "cell_type": "code",
   "execution_count": 18,
   "metadata": {},
   "outputs": [
    {
     "data": {
      "image/png": "[encoded data removed]",
      "text/plain": [
       "<Figure size 498.35x360 with 1 Axes>"
      ]
     },
     "metadata": {},
     "output_type": "display_data"
    }
   ],
   "source": [
    "sns.catplot(x='guest_type', y='count', hue='booking_cycle', data=users_df, kind='bar');"
   ]
  },
  {
   "cell_type": "markdown",
   "metadata": {},
   "source": [
    "Considering the above graph, there is a significant guest drop-off for new guests during booking experience in which new guests tend to use *contact_me* feature predominantly. I can inference that there is minor instances where host doesn't respond to guests in timely matter, host does not accept or reject guest's inquiry (follow-up issue), and guests not booking in the end after host responds and accepts the guest's inquiry.\n",
    "\n",
    "With that being said, we have significant business opportunities to implement better system primarily for new guests whom seem to use *contact_me* feature."
   ]
  },
  {
   "cell_type": "markdown",
   "metadata": {},
   "source": [
    "### 2.4 Visualizing host response rate to guests' inquiries and text characteristics.\n",
    "I will be inspecting how long it takes for host to respond in average to guests when using *contact_me* and *book_it* feature and check if long text count provide quicker response from the users."
   ]
  },
  {
   "cell_type": "code",
   "execution_count": 40,
   "metadata": {},
   "outputs": [],
   "source": [
    "# Find contact me response time - get ts_interaction_frst and ts_reply_at_first_column\n",
    "contact_me_feat_df = contacts_df[contacts_df['contact_channel_first'] == 'contact_me'][['ts_interaction_first', 'ts_reply_at_first', 'ts_accepted_at_first', 'ts_booking_at']]\n",
    "book_it_feat_df = contacts_df[contacts_df['contact_channel_first'] == 'book_it'][['ts_interaction_first', 'ts_reply_at_first', 'ts_accepted_at_first', 'ts_booking_at']]\n",
    "\n",
    "\n",
    "# Get time difference between ts_interaction_first and ts_reply_at_first column\n",
    "contact_me_feat_df['reply_response_mins'] = (contact_me_feat_df['ts_reply_at_first']-contact_me_feat_df['ts_interaction_first']).astype('timedelta64[m]')\n",
    "book_it_feat_df['reply_response_mins'] = (book_it_feat_df['ts_reply_at_first']-book_it_feat_df['ts_interaction_first']).astype('timedelta64[m]')\n",
    "contact_me_feat_df['accepted_response_mins'] = (contact_me_feat_df['ts_accepted_at_first']-contact_me_feat_df['ts_reply_at_first']).astype('timedelta64[m]')\n",
    "book_it_feat_df['accepted_response_mins'] = (book_it_feat_df['ts_accepted_at_first']-book_it_feat_df['ts_reply_at_first']).astype('timedelta64[m]')\n",
    "contact_me_feat_df['booking_response_mins'] = (contact_me_feat_df['ts_booking_at']-contact_me_feat_df['ts_accepted_at_first']).astype('timedelta64[m]')\n",
    "book_it_feat_df['booking_response_mins'] = (book_it_feat_df['ts_booking_at']-book_it_feat_df['ts_accepted_at_first']).astype('timedelta64[m]')\n",
    "contact_me_feat_df['total_response_mins'] = (contact_me_feat_df['ts_booking_at']-contact_me_feat_df['ts_reply_at_first']).astype('timedelta64[m]')\n",
    "book_it_feat_df['total_response_mins'] = (book_it_feat_df['ts_booking_at']-book_it_feat_df['ts_reply_at_first']).astype('timedelta64[m]')"
   ]
  },
  {
   "cell_type": "code",
   "execution_count": 69,
   "metadata": {},
   "outputs": [],
   "source": [
    "def get_average_response_time(df, feat_type):\n",
    "    '''\n",
    "    Builds dataframe consisting of 4 columns related to average response time.\n",
    "    \n",
    "    Parameters\n",
    "    ----------\n",
    "    df: pandas.DataFrame\n",
    "        contact_me or book_it DataFrame\n",
    "    feat_type: str\n",
    "        contact_me or book_it\n",
    "    Returns\n",
    "    -------\n",
    "    df: pandas.DataFrame\n",
    "        DataFrame with average response time columns\n",
    "    '''\n",
    "    # Remove NaT/NaNs and find time difference and average out the responsse time in minutes\n",
    "    reply_response = df[df['reply_response_mins'].notnull()]['reply_response_mins'].mean()\n",
    "    accepted_response = df[df['accepted_response_mins'].notnull()]['accepted_response_mins'].mean()\n",
    "    book_it_response = df[df['booking_response_mins'].notnull()]['booking_response_mins'].mean()\n",
    "    total_response = df[df['total_response_mins'].notnull()]['total_response_mins'].mean()\n",
    "\n",
    "    data = {'response_type': ['reply_response', 'accepted_response', 'book_it_response', 'total_response'],\n",
    "            'avg_response_mins': [reply_response, accepted_response, book_it_response, total_response]}\n",
    "\n",
    "    df = pd.DataFrame(data)\n",
    "    df['feat_type'] = feat_type\n",
    "\n",
    "    return df"
   ]
  },
  {
   "cell_type": "code",
   "execution_count": 72,
   "metadata": {},
   "outputs": [],
   "source": [
    "# Get average time per time response columns\n",
    "contact_feat_df = get_average_response_time(contact_me_feat_df, 'contact_me')\n",
    "book_feat_df = get_average_response_time(book_it_feat_df, 'book_it')"
   ]
  },
  {
   "cell_type": "code",
   "execution_count": 75,
   "metadata": {},
   "outputs": [
    {
     "data": {
      "text/html": [
       "<div>\n",
       "<style scoped>\n",
       "    .dataframe tbody tr th:only-of-type {\n",
       "        vertical-align: middle;\n",
       "    }\n",
       "\n",
       "    .dataframe tbody tr th {\n",
       "        vertical-align: top;\n",
       "    }\n",
       "\n",
       "    .dataframe thead th {\n",
       "        text-align: right;\n",
       "    }\n",
       "</style>\n",
       "<table border=\"1\" class=\"dataframe\">\n",
       "  <thead>\n",
       "    <tr style=\"text-align: right;\">\n",
       "      <th></th>\n",
       "      <th>response_type</th>\n",
       "      <th>avg_response_mins</th>\n",
       "      <th>feat_type</th>\n",
       "    </tr>\n",
       "  </thead>\n",
       "  <tbody>\n",
       "    <tr>\n",
       "      <th>0</th>\n",
       "      <td>reply_response</td>\n",
       "      <td>1390.028905</td>\n",
       "      <td>contact_me</td>\n",
       "    </tr>\n",
       "    <tr>\n",
       "      <th>1</th>\n",
       "      <td>accepted_response</td>\n",
       "      <td>789.640460</td>\n",
       "      <td>contact_me</td>\n",
       "    </tr>\n",
       "    <tr>\n",
       "      <th>2</th>\n",
       "      <td>book_it_response</td>\n",
       "      <td>3318.765093</td>\n",
       "      <td>contact_me</td>\n",
       "    </tr>\n",
       "    <tr>\n",
       "      <th>3</th>\n",
       "      <td>total_response</td>\n",
       "      <td>4602.890231</td>\n",
       "      <td>contact_me</td>\n",
       "    </tr>\n",
       "    <tr>\n",
       "      <th>4</th>\n",
       "      <td>reply_response</td>\n",
       "      <td>817.114221</td>\n",
       "      <td>book_it</td>\n",
       "    </tr>\n",
       "    <tr>\n",
       "      <th>5</th>\n",
       "      <td>accepted_response</td>\n",
       "      <td>728.740094</td>\n",
       "      <td>book_it</td>\n",
       "    </tr>\n",
       "    <tr>\n",
       "      <th>6</th>\n",
       "      <td>book_it_response</td>\n",
       "      <td>28.920663</td>\n",
       "      <td>book_it</td>\n",
       "    </tr>\n",
       "    <tr>\n",
       "      <th>7</th>\n",
       "      <td>total_response</td>\n",
       "      <td>634.737384</td>\n",
       "      <td>book_it</td>\n",
       "    </tr>\n",
       "  </tbody>\n",
       "</table>\n",
       "</div>"
      ],
      "text/plain": [
       "       response_type  avg_response_mins   feat_type\n",
       "0     reply_response        1390.028905  contact_me\n",
       "1  accepted_response         789.640460  contact_me\n",
       "2   book_it_response        3318.765093  contact_me\n",
       "3     total_response        4602.890231  contact_me\n",
       "4     reply_response         817.114221     book_it\n",
       "5  accepted_response         728.740094     book_it\n",
       "6   book_it_response          28.920663     book_it\n",
       "7     total_response         634.737384     book_it"
      ]
     },
     "execution_count": 75,
     "metadata": {},
     "output_type": "execute_result"
    }
   ],
   "source": [
    "# Combine all users dataframe\n",
    "time_df = pd.concat([contact_feat_df, book_feat_df]).reset_index(drop=True)\n",
    "time_df"
   ]
  },
  {
   "cell_type": "code",
   "execution_count": 89,
   "metadata": {},
   "outputs": [
    {
     "data": {
      "image/png": "[encoded data removed]",
      "text/plain": [
       "<Figure size 606.036x360 with 1 Axes>"
      ]
     },
     "metadata": {},
     "output_type": "display_data"
    }
   ],
   "source": [
    "ax = sns.catplot(x='response_type', y='avg_response_mins', hue='feat_type', data=time_df, kind='bar', height=5, aspect=11.7/8.27);\n",
    "ax.set(xlabel=\"respose type\", ylabel=\"average response time in minutes\");"
   ]
  },
  {
   "cell_type": "markdown",
   "metadata": {},
   "source": [
    "From above visualization, you can see that users who uses contact_me feature in general have higher response time compared to book_it feature, which explains why it has higher guest drop off - which ultimately does not book the room."
   ]
  },
  {
   "cell_type": "markdown",
   "metadata": {},
   "source": [
    "### 2.4 Visualizing whether more interactions yields higher response/acceptance/booking rate.\n",
    "Analyzing whether more interations between host and guests yields higher likelihood of response, acceptance, and booking confirmation. "
   ]
  },
  {
   "cell_type": "code",
   "execution_count": null,
   "metadata": {},
   "outputs": [],
   "source": []
  }
 ],
 "metadata": {
  "kernelspec": {
   "display_name": "Python 3",
   "language": "python",
   "name": "python3"
  },
  "language_info": {
   "codemirror_mode": {
    "name": "ipython",
    "version": 3
   },
   "file_extension": ".py",
   "mimetype": "text/x-python",
   "name": "python",
   "nbconvert_exporter": "python",
   "pygments_lexer": "ipython3",
   "version": "3.8.5"
  }
 },
 "nbformat": 4,
 "nbformat_minor": 4
}
