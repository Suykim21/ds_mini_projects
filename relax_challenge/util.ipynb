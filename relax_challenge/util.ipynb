{
 "cells": [
  {
   "cell_type": "code",
   "execution_count": 2,
   "metadata": {},
   "outputs": [],
   "source": [
    "# define function for plotting the results\n",
    "def compute_log_result(algo, pred_train, pred_test):\n",
    "    \"\"\"compute and log the performance for both training and test sets\"\"\"\n",
    "    \n",
    "    # compute the performance\n",
    "    f1_train = f1_score(y_train, pred_train)\n",
    "    f1_test = f1_score(y_test, pred_test)\n",
    "    auc_train = roc_auc_score(y_train, pred_train)\n",
    "    auc_test = roc_auc_score(y_test, pred_test)\n",
    "    \n",
    "    # log the performance\n",
    "    score_table.loc[algo,:] = f1_train, auc_train, f1_test, auc_test"
   ]
  }
 ],
 "metadata": {
  "kernelspec": {
   "display_name": "Python 3",
   "language": "python",
   "name": "python3"
  },
  "language_info": {
   "codemirror_mode": {
    "name": "ipython",
    "version": 3
   },
   "file_extension": ".py",
   "mimetype": "text/x-python",
   "name": "python",
   "nbconvert_exporter": "python",
   "pygments_lexer": "ipython3",
   "version": "3.8.5"
  }
 },
 "nbformat": 4,
 "nbformat_minor": 4
}
