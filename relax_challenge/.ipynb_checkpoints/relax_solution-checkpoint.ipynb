{
 "cells": [
  {
   "cell_type": "markdown",
   "metadata": {},
   "source": [
    "# Relax Take-home Challenge\n",
    "I am given users and users' activity/logged in information. The purpose of this project is to **identify which factors predict future user adoption**. User adoption (adopted user) is defined as logging in 3 separate times in at least one seven-day period."
   ]
  },
  {
   "cell_type": "markdown",
   "metadata": {},
   "source": [
    "# 1. Import Libraries and Dataset"
   ]
  },
  {
   "cell_type": "code",
   "execution_count": 111,
   "metadata": {},
   "outputs": [],
   "source": [
    "import pandas as pd\n",
    "import numpy as np\n",
    "import matplotlib.pyplot as plt\n",
    "import seaborn as sns\n",
    "\n",
    "# Set white grid styling\n",
    "sns.set_style('whitegrid')\n",
    "sns.set(font_scale=1) # Font size\n",
    "\n",
    "# Ignore third-party warnings\n",
    "import warnings\n",
    "warnings.filterwarnings('ignore')"
   ]
  },
  {
   "cell_type": "code",
   "execution_count": 112,
   "metadata": {},
   "outputs": [],
   "source": [
    "# Import datasets\n",
    "user_df = pd.read_csv('takehome_users.csv', parse_dates=['creation_time'], encoding='ISO-8859-1')\n",
    "engagement_df = pd.read_csv(\"takehome_user_engagement.csv\", parse_dates=['time_stamp'])"
   ]
  },
  {
   "cell_type": "markdown",
   "metadata": {},
   "source": [
    "## 1.1 User Dataset\n",
    "Contains 12,000 users' information who signed up for the product in the last two years. It contains how and when their account was created, last login, etc. "
   ]
  },
  {
   "cell_type": "code",
   "execution_count": 113,
   "metadata": {},
   "outputs": [
    {
     "data": {
      "text/html": [
       "<div>\n",
       "<style scoped>\n",
       "    .dataframe tbody tr th:only-of-type {\n",
       "        vertical-align: middle;\n",
       "    }\n",
       "\n",
       "    .dataframe tbody tr th {\n",
       "        vertical-align: top;\n",
       "    }\n",
       "\n",
       "    .dataframe thead th {\n",
       "        text-align: right;\n",
       "    }\n",
       "</style>\n",
       "<table border=\"1\" class=\"dataframe\">\n",
       "  <thead>\n",
       "    <tr style=\"text-align: right;\">\n",
       "      <th></th>\n",
       "      <th>object_id</th>\n",
       "      <th>creation_time</th>\n",
       "      <th>name</th>\n",
       "      <th>email</th>\n",
       "      <th>creation_source</th>\n",
       "      <th>last_session_creation_time</th>\n",
       "      <th>opted_in_to_mailing_list</th>\n",
       "      <th>enabled_for_marketing_drip</th>\n",
       "      <th>org_id</th>\n",
       "      <th>invited_by_user_id</th>\n",
       "    </tr>\n",
       "  </thead>\n",
       "  <tbody>\n",
       "    <tr>\n",
       "      <th>0</th>\n",
       "      <td>1</td>\n",
       "      <td>2014-04-22 03:53:30</td>\n",
       "      <td>Clausen August</td>\n",
       "      <td>AugustCClausen@yahoo.com</td>\n",
       "      <td>GUEST_INVITE</td>\n",
       "      <td>1.398139e+09</td>\n",
       "      <td>1</td>\n",
       "      <td>0</td>\n",
       "      <td>11</td>\n",
       "      <td>10803.0</td>\n",
       "    </tr>\n",
       "  </tbody>\n",
       "</table>\n",
       "</div>"
      ],
      "text/plain": [
       "   object_id       creation_time            name                     email  \\\n",
       "0          1 2014-04-22 03:53:30  Clausen August  AugustCClausen@yahoo.com   \n",
       "\n",
       "  creation_source  last_session_creation_time  opted_in_to_mailing_list  \\\n",
       "0    GUEST_INVITE                1.398139e+09                         1   \n",
       "\n",
       "   enabled_for_marketing_drip  org_id  invited_by_user_id  \n",
       "0                           0      11             10803.0  "
      ]
     },
     "execution_count": 113,
     "metadata": {},
     "output_type": "execute_result"
    }
   ],
   "source": [
    "user_df.head(1)"
   ]
  },
  {
   "cell_type": "code",
   "execution_count": 114,
   "metadata": {},
   "outputs": [],
   "source": [
    "# Convert last_session_creation_time column into datetime\n",
    "user_df['last_session_creation_time'] = pd.to_datetime(user_df['last_session_creation_time'], unit='s')"
   ]
  },
  {
   "cell_type": "code",
   "execution_count": 115,
   "metadata": {},
   "outputs": [
    {
     "name": "stdout",
     "output_type": "stream",
     "text": [
      "<class 'pandas.core.frame.DataFrame'>\n",
      "RangeIndex: 12000 entries, 0 to 11999\n",
      "Data columns (total 10 columns):\n",
      " #   Column                      Non-Null Count  Dtype         \n",
      "---  ------                      --------------  -----         \n",
      " 0   object_id                   12000 non-null  int64         \n",
      " 1   creation_time               12000 non-null  datetime64[ns]\n",
      " 2   name                        12000 non-null  object        \n",
      " 3   email                       12000 non-null  object        \n",
      " 4   creation_source             12000 non-null  object        \n",
      " 5   last_session_creation_time  8823 non-null   datetime64[ns]\n",
      " 6   opted_in_to_mailing_list    12000 non-null  int64         \n",
      " 7   enabled_for_marketing_drip  12000 non-null  int64         \n",
      " 8   org_id                      12000 non-null  int64         \n",
      " 9   invited_by_user_id          6417 non-null   float64       \n",
      "dtypes: datetime64[ns](2), float64(1), int64(4), object(3)\n",
      "memory usage: 937.6+ KB\n"
     ]
    }
   ],
   "source": [
    "user_df.info()"
   ]
  },
  {
   "cell_type": "code",
   "execution_count": 116,
   "metadata": {},
   "outputs": [
    {
     "data": {
      "text/html": [
       "<div>\n",
       "<style scoped>\n",
       "    .dataframe tbody tr th:only-of-type {\n",
       "        vertical-align: middle;\n",
       "    }\n",
       "\n",
       "    .dataframe tbody tr th {\n",
       "        vertical-align: top;\n",
       "    }\n",
       "\n",
       "    .dataframe thead th {\n",
       "        text-align: right;\n",
       "    }\n",
       "</style>\n",
       "<table border=\"1\" class=\"dataframe\">\n",
       "  <thead>\n",
       "    <tr style=\"text-align: right;\">\n",
       "      <th></th>\n",
       "      <th>object_id</th>\n",
       "      <th>creation_time</th>\n",
       "      <th>name</th>\n",
       "      <th>email</th>\n",
       "      <th>creation_source</th>\n",
       "      <th>last_session_creation_time</th>\n",
       "      <th>opted_in_to_mailing_list</th>\n",
       "      <th>enabled_for_marketing_drip</th>\n",
       "      <th>org_id</th>\n",
       "      <th>invited_by_user_id</th>\n",
       "    </tr>\n",
       "  </thead>\n",
       "  <tbody>\n",
       "    <tr>\n",
       "      <th>0</th>\n",
       "      <td>1</td>\n",
       "      <td>2014-04-22 03:53:30</td>\n",
       "      <td>Clausen August</td>\n",
       "      <td>AugustCClausen@yahoo.com</td>\n",
       "      <td>GUEST_INVITE</td>\n",
       "      <td>2014-04-22 03:53:30</td>\n",
       "      <td>1</td>\n",
       "      <td>0</td>\n",
       "      <td>11</td>\n",
       "      <td>10803.0</td>\n",
       "    </tr>\n",
       "  </tbody>\n",
       "</table>\n",
       "</div>"
      ],
      "text/plain": [
       "   object_id       creation_time            name                     email  \\\n",
       "0          1 2014-04-22 03:53:30  Clausen August  AugustCClausen@yahoo.com   \n",
       "\n",
       "  creation_source last_session_creation_time  opted_in_to_mailing_list  \\\n",
       "0    GUEST_INVITE        2014-04-22 03:53:30                         1   \n",
       "\n",
       "   enabled_for_marketing_drip  org_id  invited_by_user_id  \n",
       "0                           0      11             10803.0  "
      ]
     },
     "execution_count": 116,
     "metadata": {},
     "output_type": "execute_result"
    }
   ],
   "source": [
    "user_df.head(1)"
   ]
  },
  {
   "cell_type": "markdown",
   "metadata": {},
   "source": [
    "User dataframe has missing data in the **last_Session_creation_time** and **invited_by_user_id** dataframe"
   ]
  },
  {
   "cell_type": "markdown",
   "metadata": {},
   "source": [
    "## 1.2. Engagement Dataset\n",
    "Engagement dataset contains summary of how often users logged in for each day."
   ]
  },
  {
   "cell_type": "code",
   "execution_count": 117,
   "metadata": {},
   "outputs": [
    {
     "data": {
      "text/html": [
       "<div>\n",
       "<style scoped>\n",
       "    .dataframe tbody tr th:only-of-type {\n",
       "        vertical-align: middle;\n",
       "    }\n",
       "\n",
       "    .dataframe tbody tr th {\n",
       "        vertical-align: top;\n",
       "    }\n",
       "\n",
       "    .dataframe thead th {\n",
       "        text-align: right;\n",
       "    }\n",
       "</style>\n",
       "<table border=\"1\" class=\"dataframe\">\n",
       "  <thead>\n",
       "    <tr style=\"text-align: right;\">\n",
       "      <th></th>\n",
       "      <th>time_stamp</th>\n",
       "      <th>user_id</th>\n",
       "      <th>visited</th>\n",
       "    </tr>\n",
       "  </thead>\n",
       "  <tbody>\n",
       "    <tr>\n",
       "      <th>0</th>\n",
       "      <td>2014-04-22 03:53:30</td>\n",
       "      <td>1</td>\n",
       "      <td>1</td>\n",
       "    </tr>\n",
       "  </tbody>\n",
       "</table>\n",
       "</div>"
      ],
      "text/plain": [
       "           time_stamp  user_id  visited\n",
       "0 2014-04-22 03:53:30        1        1"
      ]
     },
     "execution_count": 117,
     "metadata": {},
     "output_type": "execute_result"
    }
   ],
   "source": [
    "engagement_df.head(1)"
   ]
  },
  {
   "cell_type": "code",
   "execution_count": 118,
   "metadata": {},
   "outputs": [
    {
     "name": "stdout",
     "output_type": "stream",
     "text": [
      "<class 'pandas.core.frame.DataFrame'>\n",
      "RangeIndex: 207917 entries, 0 to 207916\n",
      "Data columns (total 3 columns):\n",
      " #   Column      Non-Null Count   Dtype         \n",
      "---  ------      --------------   -----         \n",
      " 0   time_stamp  207917 non-null  datetime64[ns]\n",
      " 1   user_id     207917 non-null  int64         \n",
      " 2   visited     207917 non-null  int64         \n",
      "dtypes: datetime64[ns](1), int64(2)\n",
      "memory usage: 4.8 MB\n"
     ]
    }
   ],
   "source": [
    "engagement_df.info()"
   ]
  },
  {
   "cell_type": "markdown",
   "metadata": {},
   "source": [
    "## 2. Data Wrangling\n",
    "Defining whether user is an adopted user or not by utilizing both user and engagement dataframe. Adopted user is defined as a user who has logged into the product on three separate days in at least one seven-day period.\n",
    "\n",
    "### User"
   ]
  },
  {
   "cell_type": "code",
   "execution_count": 119,
   "metadata": {},
   "outputs": [],
   "source": [
    "# Create new column called 'adopted_user'\n",
    "user_df['adopted_user'] = 0 # Set 0 by default\n",
    "\n",
    "# Rename 'object_id' column name to 'user_id' to be same as engagement's 'user_id' column\n",
    "user_df.rename(columns={'object_id': 'user_id'}, inplace=True)\n",
    "\n",
    "# Set user_id column as index \n",
    "user_df.set_index('user_id', inplace=True)"
   ]
  },
  {
   "cell_type": "code",
   "execution_count": 120,
   "metadata": {},
   "outputs": [
    {
     "data": {
      "text/html": [
       "<div>\n",
       "<style scoped>\n",
       "    .dataframe tbody tr th:only-of-type {\n",
       "        vertical-align: middle;\n",
       "    }\n",
       "\n",
       "    .dataframe tbody tr th {\n",
       "        vertical-align: top;\n",
       "    }\n",
       "\n",
       "    .dataframe thead th {\n",
       "        text-align: right;\n",
       "    }\n",
       "</style>\n",
       "<table border=\"1\" class=\"dataframe\">\n",
       "  <thead>\n",
       "    <tr style=\"text-align: right;\">\n",
       "      <th></th>\n",
       "      <th>creation_time</th>\n",
       "      <th>name</th>\n",
       "      <th>email</th>\n",
       "      <th>creation_source</th>\n",
       "      <th>last_session_creation_time</th>\n",
       "      <th>opted_in_to_mailing_list</th>\n",
       "      <th>enabled_for_marketing_drip</th>\n",
       "      <th>org_id</th>\n",
       "      <th>invited_by_user_id</th>\n",
       "      <th>adopted_user</th>\n",
       "    </tr>\n",
       "    <tr>\n",
       "      <th>user_id</th>\n",
       "      <th></th>\n",
       "      <th></th>\n",
       "      <th></th>\n",
       "      <th></th>\n",
       "      <th></th>\n",
       "      <th></th>\n",
       "      <th></th>\n",
       "      <th></th>\n",
       "      <th></th>\n",
       "      <th></th>\n",
       "    </tr>\n",
       "  </thead>\n",
       "  <tbody>\n",
       "    <tr>\n",
       "      <th>1</th>\n",
       "      <td>2014-04-22 03:53:30</td>\n",
       "      <td>Clausen August</td>\n",
       "      <td>AugustCClausen@yahoo.com</td>\n",
       "      <td>GUEST_INVITE</td>\n",
       "      <td>2014-04-22 03:53:30</td>\n",
       "      <td>1</td>\n",
       "      <td>0</td>\n",
       "      <td>11</td>\n",
       "      <td>10803.0</td>\n",
       "      <td>0</td>\n",
       "    </tr>\n",
       "    <tr>\n",
       "      <th>2</th>\n",
       "      <td>2013-11-15 03:45:04</td>\n",
       "      <td>Poole Matthew</td>\n",
       "      <td>MatthewPoole@gustr.com</td>\n",
       "      <td>ORG_INVITE</td>\n",
       "      <td>2014-03-31 03:45:04</td>\n",
       "      <td>0</td>\n",
       "      <td>0</td>\n",
       "      <td>1</td>\n",
       "      <td>316.0</td>\n",
       "      <td>0</td>\n",
       "    </tr>\n",
       "    <tr>\n",
       "      <th>3</th>\n",
       "      <td>2013-03-19 23:14:52</td>\n",
       "      <td>Bottrill Mitchell</td>\n",
       "      <td>MitchellBottrill@gustr.com</td>\n",
       "      <td>ORG_INVITE</td>\n",
       "      <td>2013-03-19 23:14:52</td>\n",
       "      <td>0</td>\n",
       "      <td>0</td>\n",
       "      <td>94</td>\n",
       "      <td>1525.0</td>\n",
       "      <td>0</td>\n",
       "    </tr>\n",
       "  </tbody>\n",
       "</table>\n",
       "</div>"
      ],
      "text/plain": [
       "              creation_time               name                       email  \\\n",
       "user_id                                                                      \n",
       "1       2014-04-22 03:53:30     Clausen August    AugustCClausen@yahoo.com   \n",
       "2       2013-11-15 03:45:04      Poole Matthew      MatthewPoole@gustr.com   \n",
       "3       2013-03-19 23:14:52  Bottrill Mitchell  MitchellBottrill@gustr.com   \n",
       "\n",
       "        creation_source last_session_creation_time  opted_in_to_mailing_list  \\\n",
       "user_id                                                                        \n",
       "1          GUEST_INVITE        2014-04-22 03:53:30                         1   \n",
       "2            ORG_INVITE        2014-03-31 03:45:04                         0   \n",
       "3            ORG_INVITE        2013-03-19 23:14:52                         0   \n",
       "\n",
       "         enabled_for_marketing_drip  org_id  invited_by_user_id  adopted_user  \n",
       "user_id                                                                        \n",
       "1                                 0      11             10803.0             0  \n",
       "2                                 0       1               316.0             0  \n",
       "3                                 0      94              1525.0             0  "
      ]
     },
     "execution_count": 120,
     "metadata": {},
     "output_type": "execute_result"
    }
   ],
   "source": [
    "user_df.head(3)"
   ]
  },
  {
   "cell_type": "code",
   "execution_count": 121,
   "metadata": {},
   "outputs": [
    {
     "data": {
      "text/html": [
       "<div>\n",
       "<style scoped>\n",
       "    .dataframe tbody tr th:only-of-type {\n",
       "        vertical-align: middle;\n",
       "    }\n",
       "\n",
       "    .dataframe tbody tr th {\n",
       "        vertical-align: top;\n",
       "    }\n",
       "\n",
       "    .dataframe thead th {\n",
       "        text-align: right;\n",
       "    }\n",
       "</style>\n",
       "<table border=\"1\" class=\"dataframe\">\n",
       "  <thead>\n",
       "    <tr style=\"text-align: right;\">\n",
       "      <th></th>\n",
       "      <th>creation_time</th>\n",
       "      <th>name</th>\n",
       "      <th>email</th>\n",
       "      <th>last_session_creation_time</th>\n",
       "      <th>opted_in_to_mailing_list</th>\n",
       "      <th>enabled_for_marketing_drip</th>\n",
       "      <th>org_id</th>\n",
       "      <th>invited_by_user_id</th>\n",
       "      <th>adopted_user</th>\n",
       "      <th>s__guest_invite</th>\n",
       "      <th>s__org_invite</th>\n",
       "      <th>s__personal_projects</th>\n",
       "      <th>s__signup</th>\n",
       "      <th>s__signup_google_auth</th>\n",
       "    </tr>\n",
       "    <tr>\n",
       "      <th>user_id</th>\n",
       "      <th></th>\n",
       "      <th></th>\n",
       "      <th></th>\n",
       "      <th></th>\n",
       "      <th></th>\n",
       "      <th></th>\n",
       "      <th></th>\n",
       "      <th></th>\n",
       "      <th></th>\n",
       "      <th></th>\n",
       "      <th></th>\n",
       "      <th></th>\n",
       "      <th></th>\n",
       "      <th></th>\n",
       "    </tr>\n",
       "  </thead>\n",
       "  <tbody>\n",
       "    <tr>\n",
       "      <th>1</th>\n",
       "      <td>2014-04-22 03:53:30</td>\n",
       "      <td>Clausen August</td>\n",
       "      <td>AugustCClausen@yahoo.com</td>\n",
       "      <td>2014-04-22 03:53:30</td>\n",
       "      <td>1</td>\n",
       "      <td>0</td>\n",
       "      <td>11</td>\n",
       "      <td>10803.0</td>\n",
       "      <td>0</td>\n",
       "      <td>1</td>\n",
       "      <td>0</td>\n",
       "      <td>0</td>\n",
       "      <td>0</td>\n",
       "      <td>0</td>\n",
       "    </tr>\n",
       "    <tr>\n",
       "      <th>2</th>\n",
       "      <td>2013-11-15 03:45:04</td>\n",
       "      <td>Poole Matthew</td>\n",
       "      <td>MatthewPoole@gustr.com</td>\n",
       "      <td>2014-03-31 03:45:04</td>\n",
       "      <td>0</td>\n",
       "      <td>0</td>\n",
       "      <td>1</td>\n",
       "      <td>316.0</td>\n",
       "      <td>0</td>\n",
       "      <td>0</td>\n",
       "      <td>1</td>\n",
       "      <td>0</td>\n",
       "      <td>0</td>\n",
       "      <td>0</td>\n",
       "    </tr>\n",
       "    <tr>\n",
       "      <th>3</th>\n",
       "      <td>2013-03-19 23:14:52</td>\n",
       "      <td>Bottrill Mitchell</td>\n",
       "      <td>MitchellBottrill@gustr.com</td>\n",
       "      <td>2013-03-19 23:14:52</td>\n",
       "      <td>0</td>\n",
       "      <td>0</td>\n",
       "      <td>94</td>\n",
       "      <td>1525.0</td>\n",
       "      <td>0</td>\n",
       "      <td>0</td>\n",
       "      <td>1</td>\n",
       "      <td>0</td>\n",
       "      <td>0</td>\n",
       "      <td>0</td>\n",
       "    </tr>\n",
       "  </tbody>\n",
       "</table>\n",
       "</div>"
      ],
      "text/plain": [
       "              creation_time               name                       email  \\\n",
       "user_id                                                                      \n",
       "1       2014-04-22 03:53:30     Clausen August    AugustCClausen@yahoo.com   \n",
       "2       2013-11-15 03:45:04      Poole Matthew      MatthewPoole@gustr.com   \n",
       "3       2013-03-19 23:14:52  Bottrill Mitchell  MitchellBottrill@gustr.com   \n",
       "\n",
       "        last_session_creation_time  opted_in_to_mailing_list  \\\n",
       "user_id                                                        \n",
       "1              2014-04-22 03:53:30                         1   \n",
       "2              2014-03-31 03:45:04                         0   \n",
       "3              2013-03-19 23:14:52                         0   \n",
       "\n",
       "         enabled_for_marketing_drip  org_id  invited_by_user_id  adopted_user  \\\n",
       "user_id                                                                         \n",
       "1                                 0      11             10803.0             0   \n",
       "2                                 0       1               316.0             0   \n",
       "3                                 0      94              1525.0             0   \n",
       "\n",
       "         s__guest_invite  s__org_invite  s__personal_projects  s__signup  \\\n",
       "user_id                                                                    \n",
       "1                      1              0                     0          0   \n",
       "2                      0              1                     0          0   \n",
       "3                      0              1                     0          0   \n",
       "\n",
       "         s__signup_google_auth  \n",
       "user_id                         \n",
       "1                            0  \n",
       "2                            0  \n",
       "3                            0  "
      ]
     },
     "execution_count": 121,
     "metadata": {},
     "output_type": "execute_result"
    }
   ],
   "source": [
    "# One hot encode 'creation_source'\n",
    "user_df = pd.get_dummies(user_df, columns=['creation_source'], prefix='s_')\n",
    "\n",
    "# Lowercase all column names\n",
    "user_df.columns = user_df.columns.str.lower()\n",
    "user_df.head(3)"
   ]
  },
  {
   "cell_type": "code",
   "execution_count": 122,
   "metadata": {},
   "outputs": [],
   "source": [
    "# Fill in missing data in 'invited_by_user_id' column by creating 'invited' column and imputing binary values\n",
    "user_df['invited'] = user_df['invited_by_user_id'].apply(lambda val: 0 if np.isnan(val) else 1)\n",
    "\n",
    "# Remove 'invited_by_user_id' column as it is not needed to predict whether user will be adopted user or not\n",
    "user_df.drop(['invited_by_user_id'], axis=1, inplace=True)"
   ]
  },
  {
   "cell_type": "code",
   "execution_count": 123,
   "metadata": {},
   "outputs": [
    {
     "data": {
      "text/plain": [
       "1    6417\n",
       "0    5583\n",
       "Name: invited, dtype: int64"
      ]
     },
     "execution_count": 123,
     "metadata": {},
     "output_type": "execute_result"
    }
   ],
   "source": [
    "user_df['invited'].value_counts()"
   ]
  },
  {
   "cell_type": "markdown",
   "metadata": {},
   "source": [
    "### Engagement\n",
    "We now need to look at user engagement dataframe to fill in values onto user dataframe's 'adopted_user' column"
   ]
  },
  {
   "cell_type": "code",
   "execution_count": 124,
   "metadata": {},
   "outputs": [
    {
     "data": {
      "text/html": [
       "<div>\n",
       "<style scoped>\n",
       "    .dataframe tbody tr th:only-of-type {\n",
       "        vertical-align: middle;\n",
       "    }\n",
       "\n",
       "    .dataframe tbody tr th {\n",
       "        vertical-align: top;\n",
       "    }\n",
       "\n",
       "    .dataframe thead th {\n",
       "        text-align: right;\n",
       "    }\n",
       "</style>\n",
       "<table border=\"1\" class=\"dataframe\">\n",
       "  <thead>\n",
       "    <tr style=\"text-align: right;\">\n",
       "      <th></th>\n",
       "      <th>time_stamp</th>\n",
       "      <th>user_id</th>\n",
       "      <th>visited</th>\n",
       "    </tr>\n",
       "  </thead>\n",
       "  <tbody>\n",
       "    <tr>\n",
       "      <th>0</th>\n",
       "      <td>2014-04-22 03:53:30</td>\n",
       "      <td>1</td>\n",
       "      <td>1</td>\n",
       "    </tr>\n",
       "    <tr>\n",
       "      <th>1</th>\n",
       "      <td>2013-11-15 03:45:04</td>\n",
       "      <td>2</td>\n",
       "      <td>1</td>\n",
       "    </tr>\n",
       "    <tr>\n",
       "      <th>2</th>\n",
       "      <td>2013-11-29 03:45:04</td>\n",
       "      <td>2</td>\n",
       "      <td>1</td>\n",
       "    </tr>\n",
       "  </tbody>\n",
       "</table>\n",
       "</div>"
      ],
      "text/plain": [
       "           time_stamp  user_id  visited\n",
       "0 2014-04-22 03:53:30        1        1\n",
       "1 2013-11-15 03:45:04        2        1\n",
       "2 2013-11-29 03:45:04        2        1"
      ]
     },
     "execution_count": 124,
     "metadata": {},
     "output_type": "execute_result"
    }
   ],
   "source": [
    "engagement_df.head(3)"
   ]
  },
  {
   "cell_type": "code",
   "execution_count": 125,
   "metadata": {},
   "outputs": [],
   "source": [
    "# Set 'time_stamp' column as datetime index\n",
    "engagement_df = engagement_df.set_index(pd.DatetimeIndex(engagement_df['time_stamp']))\n",
    "\n",
    "# Group by 'user_id' column, resample by 1 week, and total up the frequency of visits per week\n",
    "engagement_df = engagement_df.groupby('user_id').resample('1W').sum()"
   ]
  },
  {
   "cell_type": "code",
   "execution_count": 126,
   "metadata": {},
   "outputs": [
    {
     "data": {
      "text/html": [
       "<div>\n",
       "<style scoped>\n",
       "    .dataframe tbody tr th:only-of-type {\n",
       "        vertical-align: middle;\n",
       "    }\n",
       "\n",
       "    .dataframe tbody tr th {\n",
       "        vertical-align: top;\n",
       "    }\n",
       "\n",
       "    .dataframe thead th {\n",
       "        text-align: right;\n",
       "    }\n",
       "</style>\n",
       "<table border=\"1\" class=\"dataframe\">\n",
       "  <thead>\n",
       "    <tr style=\"text-align: right;\">\n",
       "      <th></th>\n",
       "      <th></th>\n",
       "      <th>user_id</th>\n",
       "      <th>visited</th>\n",
       "    </tr>\n",
       "    <tr>\n",
       "      <th>user_id</th>\n",
       "      <th>time_stamp</th>\n",
       "      <th></th>\n",
       "      <th></th>\n",
       "    </tr>\n",
       "  </thead>\n",
       "  <tbody>\n",
       "    <tr>\n",
       "      <th>1</th>\n",
       "      <th>2014-04-27</th>\n",
       "      <td>1</td>\n",
       "      <td>1</td>\n",
       "    </tr>\n",
       "    <tr>\n",
       "      <th rowspan=\"9\" valign=\"top\">2</th>\n",
       "      <th>2013-11-17</th>\n",
       "      <td>2</td>\n",
       "      <td>1</td>\n",
       "    </tr>\n",
       "    <tr>\n",
       "      <th>2013-11-24</th>\n",
       "      <td>0</td>\n",
       "      <td>0</td>\n",
       "    </tr>\n",
       "    <tr>\n",
       "      <th>2013-12-01</th>\n",
       "      <td>2</td>\n",
       "      <td>1</td>\n",
       "    </tr>\n",
       "    <tr>\n",
       "      <th>2013-12-08</th>\n",
       "      <td>0</td>\n",
       "      <td>0</td>\n",
       "    </tr>\n",
       "    <tr>\n",
       "      <th>2013-12-15</th>\n",
       "      <td>2</td>\n",
       "      <td>1</td>\n",
       "    </tr>\n",
       "    <tr>\n",
       "      <th>2013-12-22</th>\n",
       "      <td>0</td>\n",
       "      <td>0</td>\n",
       "    </tr>\n",
       "    <tr>\n",
       "      <th>2013-12-29</th>\n",
       "      <td>2</td>\n",
       "      <td>1</td>\n",
       "    </tr>\n",
       "    <tr>\n",
       "      <th>2014-01-05</th>\n",
       "      <td>2</td>\n",
       "      <td>1</td>\n",
       "    </tr>\n",
       "    <tr>\n",
       "      <th>2014-01-12</th>\n",
       "      <td>2</td>\n",
       "      <td>1</td>\n",
       "    </tr>\n",
       "  </tbody>\n",
       "</table>\n",
       "</div>"
      ],
      "text/plain": [
       "                    user_id  visited\n",
       "user_id time_stamp                  \n",
       "1       2014-04-27        1        1\n",
       "2       2013-11-17        2        1\n",
       "        2013-11-24        0        0\n",
       "        2013-12-01        2        1\n",
       "        2013-12-08        0        0\n",
       "        2013-12-15        2        1\n",
       "        2013-12-22        0        0\n",
       "        2013-12-29        2        1\n",
       "        2014-01-05        2        1\n",
       "        2014-01-12        2        1"
      ]
     },
     "execution_count": 126,
     "metadata": {},
     "output_type": "execute_result"
    }
   ],
   "source": [
    "engagement_df.head(10)"
   ]
  },
  {
   "cell_type": "code",
   "execution_count": 127,
   "metadata": {},
   "outputs": [],
   "source": [
    "# Identify users that had 3 or more visits per wee\n",
    "engagement_df = engagement_df['visited'] >= 3\n",
    "engagement_df = engagement_df.groupby(level=0).apply(np.sum)\n",
    "\n",
    "# Remove users that does not have any weeks with 3 or more visits\n",
    "engagement_df = engagement_df[engagement_df != 0]"
   ]
  },
  {
   "cell_type": "code",
   "execution_count": 128,
   "metadata": {},
   "outputs": [],
   "source": [
    "# Create new engagement dataframe\n",
    "adopted_users_df = pd.DataFrame(engagement_df,index=engagement_df.index)\n",
    "\n",
    "# Rename 'visited' to 'active_weeks'\n",
    "adopted_users_df.rename(columns={'visited': 'active_weeks'}, inplace=True)"
   ]
  },
  {
   "cell_type": "code",
   "execution_count": 129,
   "metadata": {},
   "outputs": [],
   "source": [
    "# Get min and max values\n",
    "min_val = adopted_users_df['active_weeks'].min()\n",
    "max_val = adopted_users_df['active_weeks'].max()"
   ]
  },
  {
   "cell_type": "code",
   "execution_count": 130,
   "metadata": {},
   "outputs": [],
   "source": [
    "# Scaling values between 0 to 1 (MinMaxScaler)\n",
    "def min_max_scaler(val, min_val, max_val):\n",
    "    '''\n",
    "    Normalizes values between 0 to 1.\n",
    "    \n",
    "    Parameter\n",
    "    ---------\n",
    "    val: int\n",
    "    df: pandas.DataFrame\n",
    "    Returns\n",
    "    -------\n",
    "    num: float64\n",
    "        Returns value between 0 to 1 \n",
    "        \n",
    "    '''\n",
    "    # Scale\n",
    "    return (val - min_val) / (max_val - min_val)\n",
    "\n",
    "adopted_users_df['active_weeks'] = adopted_users_df['active_weeks'].apply(lambda val: min_max_scaler(val, min_val, max_val))"
   ]
  },
  {
   "cell_type": "code",
   "execution_count": 131,
   "metadata": {},
   "outputs": [
    {
     "data": {
      "text/html": [
       "<div>\n",
       "<style scoped>\n",
       "    .dataframe tbody tr th:only-of-type {\n",
       "        vertical-align: middle;\n",
       "    }\n",
       "\n",
       "    .dataframe tbody tr th {\n",
       "        vertical-align: top;\n",
       "    }\n",
       "\n",
       "    .dataframe thead th {\n",
       "        text-align: right;\n",
       "    }\n",
       "</style>\n",
       "<table border=\"1\" class=\"dataframe\">\n",
       "  <thead>\n",
       "    <tr style=\"text-align: right;\">\n",
       "      <th></th>\n",
       "      <th>active_weeks</th>\n",
       "    </tr>\n",
       "    <tr>\n",
       "      <th>user_id</th>\n",
       "      <th></th>\n",
       "    </tr>\n",
       "  </thead>\n",
       "  <tbody>\n",
       "    <tr>\n",
       "      <th>2</th>\n",
       "      <td>0.000000</td>\n",
       "    </tr>\n",
       "    <tr>\n",
       "      <th>10</th>\n",
       "      <td>0.548387</td>\n",
       "    </tr>\n",
       "    <tr>\n",
       "      <th>20</th>\n",
       "      <td>0.000000</td>\n",
       "    </tr>\n",
       "    <tr>\n",
       "      <th>33</th>\n",
       "      <td>0.000000</td>\n",
       "    </tr>\n",
       "    <tr>\n",
       "      <th>42</th>\n",
       "      <td>0.720430</td>\n",
       "    </tr>\n",
       "    <tr>\n",
       "      <th>...</th>\n",
       "      <td>...</td>\n",
       "    </tr>\n",
       "    <tr>\n",
       "      <th>11965</th>\n",
       "      <td>0.000000</td>\n",
       "    </tr>\n",
       "    <tr>\n",
       "      <th>11967</th>\n",
       "      <td>0.075269</td>\n",
       "    </tr>\n",
       "    <tr>\n",
       "      <th>11969</th>\n",
       "      <td>0.225806</td>\n",
       "    </tr>\n",
       "    <tr>\n",
       "      <th>11975</th>\n",
       "      <td>0.462366</td>\n",
       "    </tr>\n",
       "    <tr>\n",
       "      <th>11988</th>\n",
       "      <td>0.053763</td>\n",
       "    </tr>\n",
       "  </tbody>\n",
       "</table>\n",
       "<p>1445 rows × 1 columns</p>\n",
       "</div>"
      ],
      "text/plain": [
       "         active_weeks\n",
       "user_id              \n",
       "2            0.000000\n",
       "10           0.548387\n",
       "20           0.000000\n",
       "33           0.000000\n",
       "42           0.720430\n",
       "...               ...\n",
       "11965        0.000000\n",
       "11967        0.075269\n",
       "11969        0.225806\n",
       "11975        0.462366\n",
       "11988        0.053763\n",
       "\n",
       "[1445 rows x 1 columns]"
      ]
     },
     "execution_count": 131,
     "metadata": {},
     "output_type": "execute_result"
    }
   ],
   "source": [
    "adopted_users_df"
   ]
  },
  {
   "cell_type": "code",
   "execution_count": 132,
   "metadata": {},
   "outputs": [],
   "source": [
    "# Setting as 1 to 'adopted_user' column (identifying adopted users)\n",
    "user_df.loc[adopted_users_df.index, 'adopted_user'] = 1"
   ]
  },
  {
   "cell_type": "code",
   "execution_count": 133,
   "metadata": {},
   "outputs": [
    {
     "data": {
      "text/html": [
       "<div>\n",
       "<style scoped>\n",
       "    .dataframe tbody tr th:only-of-type {\n",
       "        vertical-align: middle;\n",
       "    }\n",
       "\n",
       "    .dataframe tbody tr th {\n",
       "        vertical-align: top;\n",
       "    }\n",
       "\n",
       "    .dataframe thead th {\n",
       "        text-align: right;\n",
       "    }\n",
       "</style>\n",
       "<table border=\"1\" class=\"dataframe\">\n",
       "  <thead>\n",
       "    <tr style=\"text-align: right;\">\n",
       "      <th></th>\n",
       "      <th>creation_time</th>\n",
       "      <th>name</th>\n",
       "      <th>email</th>\n",
       "      <th>last_session_creation_time</th>\n",
       "      <th>opted_in_to_mailing_list</th>\n",
       "      <th>enabled_for_marketing_drip</th>\n",
       "      <th>org_id</th>\n",
       "      <th>adopted_user</th>\n",
       "      <th>s__guest_invite</th>\n",
       "      <th>s__org_invite</th>\n",
       "      <th>s__personal_projects</th>\n",
       "      <th>s__signup</th>\n",
       "      <th>s__signup_google_auth</th>\n",
       "      <th>invited</th>\n",
       "      <th>active_weeks</th>\n",
       "    </tr>\n",
       "    <tr>\n",
       "      <th>user_id</th>\n",
       "      <th></th>\n",
       "      <th></th>\n",
       "      <th></th>\n",
       "      <th></th>\n",
       "      <th></th>\n",
       "      <th></th>\n",
       "      <th></th>\n",
       "      <th></th>\n",
       "      <th></th>\n",
       "      <th></th>\n",
       "      <th></th>\n",
       "      <th></th>\n",
       "      <th></th>\n",
       "      <th></th>\n",
       "      <th></th>\n",
       "    </tr>\n",
       "  </thead>\n",
       "  <tbody>\n",
       "    <tr>\n",
       "      <th>1</th>\n",
       "      <td>2014-04-22 03:53:30</td>\n",
       "      <td>Clausen August</td>\n",
       "      <td>AugustCClausen@yahoo.com</td>\n",
       "      <td>2014-04-22 03:53:30</td>\n",
       "      <td>1</td>\n",
       "      <td>0</td>\n",
       "      <td>11</td>\n",
       "      <td>0</td>\n",
       "      <td>1</td>\n",
       "      <td>0</td>\n",
       "      <td>0</td>\n",
       "      <td>0</td>\n",
       "      <td>0</td>\n",
       "      <td>1</td>\n",
       "      <td>0.0</td>\n",
       "    </tr>\n",
       "    <tr>\n",
       "      <th>2</th>\n",
       "      <td>2013-11-15 03:45:04</td>\n",
       "      <td>Poole Matthew</td>\n",
       "      <td>MatthewPoole@gustr.com</td>\n",
       "      <td>2014-03-31 03:45:04</td>\n",
       "      <td>0</td>\n",
       "      <td>0</td>\n",
       "      <td>1</td>\n",
       "      <td>1</td>\n",
       "      <td>0</td>\n",
       "      <td>1</td>\n",
       "      <td>0</td>\n",
       "      <td>0</td>\n",
       "      <td>0</td>\n",
       "      <td>1</td>\n",
       "      <td>0.0</td>\n",
       "    </tr>\n",
       "    <tr>\n",
       "      <th>3</th>\n",
       "      <td>2013-03-19 23:14:52</td>\n",
       "      <td>Bottrill Mitchell</td>\n",
       "      <td>MitchellBottrill@gustr.com</td>\n",
       "      <td>2013-03-19 23:14:52</td>\n",
       "      <td>0</td>\n",
       "      <td>0</td>\n",
       "      <td>94</td>\n",
       "      <td>0</td>\n",
       "      <td>0</td>\n",
       "      <td>1</td>\n",
       "      <td>0</td>\n",
       "      <td>0</td>\n",
       "      <td>0</td>\n",
       "      <td>1</td>\n",
       "      <td>0.0</td>\n",
       "    </tr>\n",
       "    <tr>\n",
       "      <th>4</th>\n",
       "      <td>2013-05-21 08:09:28</td>\n",
       "      <td>Clausen Nicklas</td>\n",
       "      <td>NicklasSClausen@yahoo.com</td>\n",
       "      <td>2013-05-22 08:09:28</td>\n",
       "      <td>0</td>\n",
       "      <td>0</td>\n",
       "      <td>1</td>\n",
       "      <td>0</td>\n",
       "      <td>1</td>\n",
       "      <td>0</td>\n",
       "      <td>0</td>\n",
       "      <td>0</td>\n",
       "      <td>0</td>\n",
       "      <td>1</td>\n",
       "      <td>0.0</td>\n",
       "    </tr>\n",
       "    <tr>\n",
       "      <th>5</th>\n",
       "      <td>2013-01-17 10:14:20</td>\n",
       "      <td>Raw Grace</td>\n",
       "      <td>GraceRaw@yahoo.com</td>\n",
       "      <td>2013-01-22 10:14:20</td>\n",
       "      <td>0</td>\n",
       "      <td>0</td>\n",
       "      <td>193</td>\n",
       "      <td>0</td>\n",
       "      <td>1</td>\n",
       "      <td>0</td>\n",
       "      <td>0</td>\n",
       "      <td>0</td>\n",
       "      <td>0</td>\n",
       "      <td>1</td>\n",
       "      <td>0.0</td>\n",
       "    </tr>\n",
       "  </tbody>\n",
       "</table>\n",
       "</div>"
      ],
      "text/plain": [
       "              creation_time               name                       email  \\\n",
       "user_id                                                                      \n",
       "1       2014-04-22 03:53:30     Clausen August    AugustCClausen@yahoo.com   \n",
       "2       2013-11-15 03:45:04      Poole Matthew      MatthewPoole@gustr.com   \n",
       "3       2013-03-19 23:14:52  Bottrill Mitchell  MitchellBottrill@gustr.com   \n",
       "4       2013-05-21 08:09:28    Clausen Nicklas   NicklasSClausen@yahoo.com   \n",
       "5       2013-01-17 10:14:20          Raw Grace          GraceRaw@yahoo.com   \n",
       "\n",
       "        last_session_creation_time  opted_in_to_mailing_list  \\\n",
       "user_id                                                        \n",
       "1              2014-04-22 03:53:30                         1   \n",
       "2              2014-03-31 03:45:04                         0   \n",
       "3              2013-03-19 23:14:52                         0   \n",
       "4              2013-05-22 08:09:28                         0   \n",
       "5              2013-01-22 10:14:20                         0   \n",
       "\n",
       "         enabled_for_marketing_drip  org_id  adopted_user  s__guest_invite  \\\n",
       "user_id                                                                      \n",
       "1                                 0      11             0                1   \n",
       "2                                 0       1             1                0   \n",
       "3                                 0      94             0                0   \n",
       "4                                 0       1             0                1   \n",
       "5                                 0     193             0                1   \n",
       "\n",
       "         s__org_invite  s__personal_projects  s__signup  \\\n",
       "user_id                                                   \n",
       "1                    0                     0          0   \n",
       "2                    1                     0          0   \n",
       "3                    1                     0          0   \n",
       "4                    0                     0          0   \n",
       "5                    0                     0          0   \n",
       "\n",
       "         s__signup_google_auth  invited  active_weeks  \n",
       "user_id                                                \n",
       "1                            0        1           0.0  \n",
       "2                            0        1           0.0  \n",
       "3                            0        1           0.0  \n",
       "4                            0        1           0.0  \n",
       "5                            0        1           0.0  "
      ]
     },
     "execution_count": 133,
     "metadata": {},
     "output_type": "execute_result"
    }
   ],
   "source": [
    "# Add 'active_weeks' column \n",
    "user_df = user_df.merge(adopted_users_df,left_index=True,on='user_id',how='outer')\n",
    "\n",
    "# Fill NaN with 0 in 'active_weeks' columns\n",
    "user_df['active_weeks'] = user_df['active_weeks'].fillna(value=0)\n",
    "user_df.head()"
   ]
  },
  {
   "cell_type": "markdown",
   "metadata": {},
   "source": [
    "### Resolving NaN in users' 'last_session_creation_time' column"
   ]
  },
  {
   "cell_type": "code",
   "execution_count": 134,
   "metadata": {},
   "outputs": [
    {
     "name": "stdout",
     "output_type": "stream",
     "text": [
      "<class 'pandas.core.frame.DataFrame'>\n",
      "Int64Index: 12000 entries, 1 to 12000\n",
      "Data columns (total 15 columns):\n",
      " #   Column                      Non-Null Count  Dtype         \n",
      "---  ------                      --------------  -----         \n",
      " 0   creation_time               12000 non-null  datetime64[ns]\n",
      " 1   name                        12000 non-null  object        \n",
      " 2   email                       12000 non-null  object        \n",
      " 3   last_session_creation_time  8823 non-null   datetime64[ns]\n",
      " 4   opted_in_to_mailing_list    12000 non-null  int64         \n",
      " 5   enabled_for_marketing_drip  12000 non-null  int64         \n",
      " 6   org_id                      12000 non-null  int64         \n",
      " 7   adopted_user                12000 non-null  int64         \n",
      " 8   s__guest_invite             12000 non-null  uint8         \n",
      " 9   s__org_invite               12000 non-null  uint8         \n",
      " 10  s__personal_projects        12000 non-null  uint8         \n",
      " 11  s__signup                   12000 non-null  uint8         \n",
      " 12  s__signup_google_auth       12000 non-null  uint8         \n",
      " 13  invited                     12000 non-null  int64         \n",
      " 14  active_weeks                12000 non-null  float64       \n",
      "dtypes: datetime64[ns](2), float64(1), int64(5), object(2), uint8(5)\n",
      "memory usage: 1.1+ MB\n"
     ]
    }
   ],
   "source": [
    "user_df.info()"
   ]
  },
  {
   "cell_type": "code",
   "execution_count": 135,
   "metadata": {},
   "outputs": [
    {
     "data": {
      "text/plain": [
       "0"
      ]
     },
     "execution_count": 135,
     "metadata": {},
     "output_type": "execute_result"
    }
   ],
   "source": [
    "# Check if NaTs are coming from 'adopted' users\n",
    "# Retrieve rows that contains NaTs on 'last_session_creation_time' column AND is adopted user\n",
    "len(user_df.loc[(user_df['last_session_creation_time'].isnull()) & (user_df['adopted_user'] == 1)])"
   ]
  },
  {
   "cell_type": "markdown",
   "metadata": {},
   "source": [
    "Seeing the result above, NaTs are from 'non-adopted' users. Since we are concerned with identifying 'adopted users', rows with NaT can be dropped."
   ]
  },
  {
   "cell_type": "code",
   "execution_count": 136,
   "metadata": {},
   "outputs": [],
   "source": [
    "user_df.dropna(inplace=True) "
   ]
  },
  {
   "cell_type": "markdown",
   "metadata": {},
   "source": [
    "## 3. EDA\n",
    "With clean dataframe, let's explore our data through visualizations."
   ]
  },
  {
   "cell_type": "markdown",
   "metadata": {},
   "source": [
    "There are 1445 adopted users and 7378 non-adopted users."
   ]
  },
  {
   "cell_type": "code",
   "execution_count": 137,
   "metadata": {},
   "outputs": [
    {
     "data": {
      "text/plain": [
       "<AxesSubplot:>"
      ]
     },
     "execution_count": 137,
     "metadata": {},
     "output_type": "execute_result"
    },
    {
     "data": {
      "image/png": "[encoded data removed]",
      "text/plain": [
       "<Figure size 432x288 with 2 Axes>"
      ]
     },
     "metadata": {},
     "output_type": "display_data"
    }
   ],
   "source": [
    "# Check for correlation\n",
    "sns.heatmap(user_df.corr())"
   ]
  },
  {
   "cell_type": "code",
   "execution_count": 138,
   "metadata": {},
   "outputs": [
    {
     "data": {
      "text/html": [
       "<div>\n",
       "<style scoped>\n",
       "    .dataframe tbody tr th:only-of-type {\n",
       "        vertical-align: middle;\n",
       "    }\n",
       "\n",
       "    .dataframe tbody tr th {\n",
       "        vertical-align: top;\n",
       "    }\n",
       "\n",
       "    .dataframe thead th {\n",
       "        text-align: right;\n",
       "    }\n",
       "</style>\n",
       "<table border=\"1\" class=\"dataframe\">\n",
       "  <thead>\n",
       "    <tr style=\"text-align: right;\">\n",
       "      <th></th>\n",
       "      <th>opted_in_to_mailing_list</th>\n",
       "      <th>enabled_for_marketing_drip</th>\n",
       "      <th>org_id</th>\n",
       "      <th>adopted_user</th>\n",
       "      <th>s__guest_invite</th>\n",
       "      <th>s__org_invite</th>\n",
       "      <th>s__personal_projects</th>\n",
       "      <th>s__signup</th>\n",
       "      <th>s__signup_google_auth</th>\n",
       "      <th>invited</th>\n",
       "      <th>active_weeks</th>\n",
       "    </tr>\n",
       "  </thead>\n",
       "  <tbody>\n",
       "    <tr>\n",
       "      <th>opted_in_to_mailing_list</th>\n",
       "      <td>1.000000</td>\n",
       "      <td>0.488219</td>\n",
       "      <td>-0.002421</td>\n",
       "      <td>0.009473</td>\n",
       "      <td>-0.005193</td>\n",
       "      <td>0.011235</td>\n",
       "      <td>-0.005339</td>\n",
       "      <td>0.002632</td>\n",
       "      <td>-0.008198</td>\n",
       "      <td>0.006828</td>\n",
       "      <td>0.004414</td>\n",
       "    </tr>\n",
       "    <tr>\n",
       "      <th>enabled_for_marketing_drip</th>\n",
       "      <td>0.488219</td>\n",
       "      <td>1.000000</td>\n",
       "      <td>0.000538</td>\n",
       "      <td>0.003733</td>\n",
       "      <td>-0.007691</td>\n",
       "      <td>0.009502</td>\n",
       "      <td>-0.018095</td>\n",
       "      <td>0.011159</td>\n",
       "      <td>-0.003042</td>\n",
       "      <td>0.003231</td>\n",
       "      <td>-0.000879</td>\n",
       "    </tr>\n",
       "    <tr>\n",
       "      <th>org_id</th>\n",
       "      <td>-0.002421</td>\n",
       "      <td>0.000538</td>\n",
       "      <td>1.000000</td>\n",
       "      <td>0.070061</td>\n",
       "      <td>0.001533</td>\n",
       "      <td>-0.018061</td>\n",
       "      <td>0.010924</td>\n",
       "      <td>0.015432</td>\n",
       "      <td>-0.003645</td>\n",
       "      <td>-0.016230</td>\n",
       "      <td>0.052155</td>\n",
       "    </tr>\n",
       "    <tr>\n",
       "      <th>adopted_user</th>\n",
       "      <td>0.009473</td>\n",
       "      <td>0.003733</td>\n",
       "      <td>0.070061</td>\n",
       "      <td>1.000000</td>\n",
       "      <td>0.052554</td>\n",
       "      <td>-0.019840</td>\n",
       "      <td>0.023821</td>\n",
       "      <td>-0.026719</td>\n",
       "      <td>-0.017537</td>\n",
       "      <td>0.021391</td>\n",
       "      <td>0.649791</td>\n",
       "    </tr>\n",
       "    <tr>\n",
       "      <th>s__guest_invite</th>\n",
       "      <td>-0.005193</td>\n",
       "      <td>-0.007691</td>\n",
       "      <td>0.001533</td>\n",
       "      <td>0.052554</td>\n",
       "      <td>1.000000</td>\n",
       "      <td>-0.352386</td>\n",
       "      <td>-0.144249</td>\n",
       "      <td>-0.245270</td>\n",
       "      <td>-0.202164</td>\n",
       "      <td>0.431261</td>\n",
       "      <td>0.034408</td>\n",
       "    </tr>\n",
       "    <tr>\n",
       "      <th>s__org_invite</th>\n",
       "      <td>0.011235</td>\n",
       "      <td>0.009502</td>\n",
       "      <td>-0.018061</td>\n",
       "      <td>-0.019840</td>\n",
       "      <td>-0.352386</td>\n",
       "      <td>1.000000</td>\n",
       "      <td>-0.231589</td>\n",
       "      <td>-0.393777</td>\n",
       "      <td>-0.324570</td>\n",
       "      <td>0.692383</td>\n",
       "      <td>-0.015736</td>\n",
       "    </tr>\n",
       "    <tr>\n",
       "      <th>s__personal_projects</th>\n",
       "      <td>-0.005339</td>\n",
       "      <td>-0.018095</td>\n",
       "      <td>0.010924</td>\n",
       "      <td>0.023821</td>\n",
       "      <td>-0.144249</td>\n",
       "      <td>-0.231589</td>\n",
       "      <td>1.000000</td>\n",
       "      <td>-0.161192</td>\n",
       "      <td>-0.132863</td>\n",
       "      <td>-0.334481</td>\n",
       "      <td>0.007798</td>\n",
       "    </tr>\n",
       "    <tr>\n",
       "      <th>s__signup</th>\n",
       "      <td>0.002632</td>\n",
       "      <td>0.011159</td>\n",
       "      <td>0.015432</td>\n",
       "      <td>-0.026719</td>\n",
       "      <td>-0.245270</td>\n",
       "      <td>-0.393777</td>\n",
       "      <td>-0.161192</td>\n",
       "      <td>1.000000</td>\n",
       "      <td>-0.225910</td>\n",
       "      <td>-0.568727</td>\n",
       "      <td>-0.025172</td>\n",
       "    </tr>\n",
       "    <tr>\n",
       "      <th>s__signup_google_auth</th>\n",
       "      <td>-0.008198</td>\n",
       "      <td>-0.003042</td>\n",
       "      <td>-0.003645</td>\n",
       "      <td>-0.017537</td>\n",
       "      <td>-0.202164</td>\n",
       "      <td>-0.324570</td>\n",
       "      <td>-0.132863</td>\n",
       "      <td>-0.225910</td>\n",
       "      <td>1.000000</td>\n",
       "      <td>-0.468773</td>\n",
       "      <td>0.006847</td>\n",
       "    </tr>\n",
       "    <tr>\n",
       "      <th>invited</th>\n",
       "      <td>0.006828</td>\n",
       "      <td>0.003231</td>\n",
       "      <td>-0.016230</td>\n",
       "      <td>0.021391</td>\n",
       "      <td>0.431261</td>\n",
       "      <td>0.692383</td>\n",
       "      <td>-0.334481</td>\n",
       "      <td>-0.568727</td>\n",
       "      <td>-0.468773</td>\n",
       "      <td>1.000000</td>\n",
       "      <td>0.011357</td>\n",
       "    </tr>\n",
       "    <tr>\n",
       "      <th>active_weeks</th>\n",
       "      <td>0.004414</td>\n",
       "      <td>-0.000879</td>\n",
       "      <td>0.052155</td>\n",
       "      <td>0.649791</td>\n",
       "      <td>0.034408</td>\n",
       "      <td>-0.015736</td>\n",
       "      <td>0.007798</td>\n",
       "      <td>-0.025172</td>\n",
       "      <td>0.006847</td>\n",
       "      <td>0.011357</td>\n",
       "      <td>1.000000</td>\n",
       "    </tr>\n",
       "  </tbody>\n",
       "</table>\n",
       "</div>"
      ],
      "text/plain": [
       "                            opted_in_to_mailing_list  \\\n",
       "opted_in_to_mailing_list                    1.000000   \n",
       "enabled_for_marketing_drip                  0.488219   \n",
       "org_id                                     -0.002421   \n",
       "adopted_user                                0.009473   \n",
       "s__guest_invite                            -0.005193   \n",
       "s__org_invite                               0.011235   \n",
       "s__personal_projects                       -0.005339   \n",
       "s__signup                                   0.002632   \n",
       "s__signup_google_auth                      -0.008198   \n",
       "invited                                     0.006828   \n",
       "active_weeks                                0.004414   \n",
       "\n",
       "                            enabled_for_marketing_drip    org_id  \\\n",
       "opted_in_to_mailing_list                      0.488219 -0.002421   \n",
       "enabled_for_marketing_drip                    1.000000  0.000538   \n",
       "org_id                                        0.000538  1.000000   \n",
       "adopted_user                                  0.003733  0.070061   \n",
       "s__guest_invite                              -0.007691  0.001533   \n",
       "s__org_invite                                 0.009502 -0.018061   \n",
       "s__personal_projects                         -0.018095  0.010924   \n",
       "s__signup                                     0.011159  0.015432   \n",
       "s__signup_google_auth                        -0.003042 -0.003645   \n",
       "invited                                       0.003231 -0.016230   \n",
       "active_weeks                                 -0.000879  0.052155   \n",
       "\n",
       "                            adopted_user  s__guest_invite  s__org_invite  \\\n",
       "opted_in_to_mailing_list        0.009473        -0.005193       0.011235   \n",
       "enabled_for_marketing_drip      0.003733        -0.007691       0.009502   \n",
       "org_id                          0.070061         0.001533      -0.018061   \n",
       "adopted_user                    1.000000         0.052554      -0.019840   \n",
       "s__guest_invite                 0.052554         1.000000      -0.352386   \n",
       "s__org_invite                  -0.019840        -0.352386       1.000000   \n",
       "s__personal_projects            0.023821        -0.144249      -0.231589   \n",
       "s__signup                      -0.026719        -0.245270      -0.393777   \n",
       "s__signup_google_auth          -0.017537        -0.202164      -0.324570   \n",
       "invited                         0.021391         0.431261       0.692383   \n",
       "active_weeks                    0.649791         0.034408      -0.015736   \n",
       "\n",
       "                            s__personal_projects  s__signup  \\\n",
       "opted_in_to_mailing_list               -0.005339   0.002632   \n",
       "enabled_for_marketing_drip             -0.018095   0.011159   \n",
       "org_id                                  0.010924   0.015432   \n",
       "adopted_user                            0.023821  -0.026719   \n",
       "s__guest_invite                        -0.144249  -0.245270   \n",
       "s__org_invite                          -0.231589  -0.393777   \n",
       "s__personal_projects                    1.000000  -0.161192   \n",
       "s__signup                              -0.161192   1.000000   \n",
       "s__signup_google_auth                  -0.132863  -0.225910   \n",
       "invited                                -0.334481  -0.568727   \n",
       "active_weeks                            0.007798  -0.025172   \n",
       "\n",
       "                            s__signup_google_auth   invited  active_weeks  \n",
       "opted_in_to_mailing_list                -0.008198  0.006828      0.004414  \n",
       "enabled_for_marketing_drip              -0.003042  0.003231     -0.000879  \n",
       "org_id                                  -0.003645 -0.016230      0.052155  \n",
       "adopted_user                            -0.017537  0.021391      0.649791  \n",
       "s__guest_invite                         -0.202164  0.431261      0.034408  \n",
       "s__org_invite                           -0.324570  0.692383     -0.015736  \n",
       "s__personal_projects                    -0.132863 -0.334481      0.007798  \n",
       "s__signup                               -0.225910 -0.568727     -0.025172  \n",
       "s__signup_google_auth                    1.000000 -0.468773      0.006847  \n",
       "invited                                 -0.468773  1.000000      0.011357  \n",
       "active_weeks                             0.006847  0.011357      1.000000  "
      ]
     },
     "execution_count": 138,
     "metadata": {},
     "output_type": "execute_result"
    }
   ],
   "source": [
    "user_df.corr()"
   ]
  },
  {
   "cell_type": "markdown",
   "metadata": {},
   "source": [
    "By inspecting correlation matrix, we can see that 'enabled_for_marketing_drip' and 'opted_in_to_mailing_list' has strong correlation. Furthermore, 'active_weeks' and 'adopted_user' has correlation as well."
   ]
  },
  {
   "cell_type": "markdown",
   "metadata": {},
   "source": [
    "Inspecting adopted and non-adopted users count and checking if there is correlation between 'last_session_creation_time' and 'adopted_user' columns."
   ]
  },
  {
   "cell_type": "code",
   "execution_count": 139,
   "metadata": {},
   "outputs": [
    {
     "data": {
      "image/png": "[encoded data removed]",
      "text/plain": [
       "<Figure size 1440x360 with 2 Axes>"
      ]
     },
     "metadata": {},
     "output_type": "display_data"
    }
   ],
   "source": [
    "# Check numerical and datetime columns\n",
    "plt.figure(figsize=(20,5));\n",
    "ax_one = plt.subplot(1,2,1) # nrows, ncols, index\n",
    "ax_one = sns.countplot(x='adopted_user', data=user_df, ax=ax_one)\n",
    "ax_one.set_title('Adopted users and Non-adopted users');\n",
    "\n",
    "ax_two = plt.subplot(1,2,2)\n",
    "ax_two = sns.countplot(x=user_df['last_session_creation_time'].dt.year, hue=user_df['adopted_user'],ax=ax_two)\n",
    "ax_two.set_title('User adoption based on last_creation_time');"
   ]
  },
  {
   "cell_type": "code",
   "execution_count": 140,
   "metadata": {},
   "outputs": [
    {
     "data": {
      "text/plain": [
       "0    7378\n",
       "1    1445\n",
       "Name: adopted_user, dtype: int64"
      ]
     },
     "execution_count": 140,
     "metadata": {},
     "output_type": "execute_result"
    }
   ],
   "source": [
    "user_df['adopted_user'].value_counts()"
   ]
  },
  {
   "cell_type": "markdown",
   "metadata": {},
   "source": [
    "There are 7378 non-adopted users and 1445 adopted users (19.58% adoption rate). From the visualization above, it looks like users with more recent activities on the product have higher adoption rate. This suggests that finding difference between 'creation_date' and 'last_session_creation_time' (time delta) can be useful in identifying adopted users (Users are more likely to be adopted users since they are active with the product)."
   ]
  },
  {
   "cell_type": "markdown",
   "metadata": {},
   "source": [
    "### Feature Engineering\n",
    "We got user activities data in 'active_weeks' column and in the following cells, we will be creating new column time delta where it represents the time difference between a user's last ssesion and their account creation date."
   ]
  },
  {
   "cell_type": "code",
   "execution_count": 141,
   "metadata": {},
   "outputs": [
    {
     "data": {
      "image/png": "[encoded data removed]",
      "text/plain": [
       "<Figure size 432x288 with 1 Axes>"
      ]
     },
     "metadata": {},
     "output_type": "display_data"
    }
   ],
   "source": [
    "user_df['time_delta'] = user_df['last_session_creation_time'] - user_df['creation_time']\n",
    "\n",
    "ax = sns.countplot(x=user_df['time_delta'].dt.days//100, hue=user_df['adopted_user'])\n",
    "ax.set_title('User adoption by the year of their last session');"
   ]
  },
  {
   "cell_type": "markdown",
   "metadata": {},
   "source": [
    "As shown above, 'Time delta' less than 100 days are more likely to be non-adopted users while users with more than 200 days are likely to be adopted users. Since we are done with feature engineering and cleaned the dataframe, we will be removing columns that are no longer needed."
   ]
  },
  {
   "cell_type": "code",
   "execution_count": 142,
   "metadata": {},
   "outputs": [],
   "source": [
    "# Remove columns that are not needed for model\n",
    "user_df.drop(['creation_time','name','email','last_session_creation_time','org_id'],axis=1, inplace=True)"
   ]
  },
  {
   "cell_type": "code",
   "execution_count": 143,
   "metadata": {
    "scrolled": true
   },
   "outputs": [
    {
     "data": {
      "text/html": [
       "<div>\n",
       "<style scoped>\n",
       "    .dataframe tbody tr th:only-of-type {\n",
       "        vertical-align: middle;\n",
       "    }\n",
       "\n",
       "    .dataframe tbody tr th {\n",
       "        vertical-align: top;\n",
       "    }\n",
       "\n",
       "    .dataframe thead th {\n",
       "        text-align: right;\n",
       "    }\n",
       "</style>\n",
       "<table border=\"1\" class=\"dataframe\">\n",
       "  <thead>\n",
       "    <tr style=\"text-align: right;\">\n",
       "      <th></th>\n",
       "      <th>opted_in_to_mailing_list</th>\n",
       "      <th>enabled_for_marketing_drip</th>\n",
       "      <th>adopted_user</th>\n",
       "      <th>s__guest_invite</th>\n",
       "      <th>s__org_invite</th>\n",
       "      <th>s__personal_projects</th>\n",
       "      <th>s__signup</th>\n",
       "      <th>s__signup_google_auth</th>\n",
       "      <th>invited</th>\n",
       "      <th>active_weeks</th>\n",
       "      <th>time_delta</th>\n",
       "    </tr>\n",
       "    <tr>\n",
       "      <th>user_id</th>\n",
       "      <th></th>\n",
       "      <th></th>\n",
       "      <th></th>\n",
       "      <th></th>\n",
       "      <th></th>\n",
       "      <th></th>\n",
       "      <th></th>\n",
       "      <th></th>\n",
       "      <th></th>\n",
       "      <th></th>\n",
       "      <th></th>\n",
       "    </tr>\n",
       "  </thead>\n",
       "  <tbody>\n",
       "    <tr>\n",
       "      <th>1</th>\n",
       "      <td>1</td>\n",
       "      <td>0</td>\n",
       "      <td>0</td>\n",
       "      <td>1</td>\n",
       "      <td>0</td>\n",
       "      <td>0</td>\n",
       "      <td>0</td>\n",
       "      <td>0</td>\n",
       "      <td>1</td>\n",
       "      <td>0.0</td>\n",
       "      <td>0 days</td>\n",
       "    </tr>\n",
       "    <tr>\n",
       "      <th>2</th>\n",
       "      <td>0</td>\n",
       "      <td>0</td>\n",
       "      <td>1</td>\n",
       "      <td>0</td>\n",
       "      <td>1</td>\n",
       "      <td>0</td>\n",
       "      <td>0</td>\n",
       "      <td>0</td>\n",
       "      <td>1</td>\n",
       "      <td>0.0</td>\n",
       "      <td>136 days</td>\n",
       "    </tr>\n",
       "    <tr>\n",
       "      <th>3</th>\n",
       "      <td>0</td>\n",
       "      <td>0</td>\n",
       "      <td>0</td>\n",
       "      <td>0</td>\n",
       "      <td>1</td>\n",
       "      <td>0</td>\n",
       "      <td>0</td>\n",
       "      <td>0</td>\n",
       "      <td>1</td>\n",
       "      <td>0.0</td>\n",
       "      <td>0 days</td>\n",
       "    </tr>\n",
       "    <tr>\n",
       "      <th>4</th>\n",
       "      <td>0</td>\n",
       "      <td>0</td>\n",
       "      <td>0</td>\n",
       "      <td>1</td>\n",
       "      <td>0</td>\n",
       "      <td>0</td>\n",
       "      <td>0</td>\n",
       "      <td>0</td>\n",
       "      <td>1</td>\n",
       "      <td>0.0</td>\n",
       "      <td>1 days</td>\n",
       "    </tr>\n",
       "    <tr>\n",
       "      <th>5</th>\n",
       "      <td>0</td>\n",
       "      <td>0</td>\n",
       "      <td>0</td>\n",
       "      <td>1</td>\n",
       "      <td>0</td>\n",
       "      <td>0</td>\n",
       "      <td>0</td>\n",
       "      <td>0</td>\n",
       "      <td>1</td>\n",
       "      <td>0.0</td>\n",
       "      <td>5 days</td>\n",
       "    </tr>\n",
       "  </tbody>\n",
       "</table>\n",
       "</div>"
      ],
      "text/plain": [
       "         opted_in_to_mailing_list  enabled_for_marketing_drip  adopted_user  \\\n",
       "user_id                                                                       \n",
       "1                               1                           0             0   \n",
       "2                               0                           0             1   \n",
       "3                               0                           0             0   \n",
       "4                               0                           0             0   \n",
       "5                               0                           0             0   \n",
       "\n",
       "         s__guest_invite  s__org_invite  s__personal_projects  s__signup  \\\n",
       "user_id                                                                    \n",
       "1                      1              0                     0          0   \n",
       "2                      0              1                     0          0   \n",
       "3                      0              1                     0          0   \n",
       "4                      1              0                     0          0   \n",
       "5                      1              0                     0          0   \n",
       "\n",
       "         s__signup_google_auth  invited  active_weeks time_delta  \n",
       "user_id                                                           \n",
       "1                            0        1           0.0     0 days  \n",
       "2                            0        1           0.0   136 days  \n",
       "3                            0        1           0.0     0 days  \n",
       "4                            0        1           0.0     1 days  \n",
       "5                            0        1           0.0     5 days  "
      ]
     },
     "execution_count": 143,
     "metadata": {},
     "output_type": "execute_result"
    }
   ],
   "source": [
    "user_df.head()"
   ]
  },
  {
   "cell_type": "code",
   "execution_count": 144,
   "metadata": {},
   "outputs": [],
   "source": [
    "# Normalize 'time_delta' column between 0 - 1\n",
    "user_df['time_delta'] = user_df['time_delta'].apply(lambda x: x.days) # Get integer values\n",
    "\n",
    "# Get min and max values\n",
    "min_val = user_df['time_delta'].min()\n",
    "max_val = user_df['time_delta'].max()\n",
    "\n",
    "# Normalize\n",
    "user_df['time_delta'] = user_df['time_delta'].apply(lambda val: min_max_scaler(val, min_val, max_val))"
   ]
  },
  {
   "cell_type": "markdown",
   "metadata": {},
   "source": [
    "## 4. ML Modeling\n",
    "We will be using three different machine learning algorithms in predicting user adoption:\n",
    "* Random Forest\n",
    "* Support Vector Machine (SVM)\n",
    "* Logistic Regression\n",
    "\n",
    "Since we are dealing with imbalanced dataset with 7378 non-adopted users and 1445 adopted users, we will be evaluating model performance based on ROC/AUC and F1-score instead of accurarcy score."
   ]
  },
  {
   "cell_type": "code",
   "execution_count": 172,
   "metadata": {},
   "outputs": [],
   "source": [
    "from sklearn.model_selection import train_test_split # Splitting train and test dataset (70/30 ratio)\n",
    "from sklearn.model_selection import RandomizedSearchCV # Used for hyperparmeter tuning\n",
    "\n",
    "# F1-score: weighted harmoic mean of test's precision and recall\n",
    "# ROC/AUC - maps consolidated information from a ton of confusion matrices int single, easy to interpret graph\n",
    "from sklearn.metrics import f1_score, roc_auc_score\n",
    "\n",
    "# Classification algorithms\n",
    "from sklearn.ensemble import RandomForestClassifier\n",
    "from sklearn.linear_model import LogisticRegression\n",
    "from sklearn.svm import SVC"
   ]
  },
  {
   "cell_type": "code",
   "execution_count": 162,
   "metadata": {},
   "outputs": [],
   "source": [
    "# Used for logging model performance\n",
    "score_table_df = pd.DataFrame(index=['RandomForest','SVC','LogisticRegression'], \n",
    "                              columns= ['f1_score_train','auc_train','f1_score_test','auc_test'])\n",
    "\n",
    "# Extract features and target\n",
    "X = user_df.drop(['adopted_user'],axis=1)\n",
    "y = user_df['adopted_user']\n",
    "\n",
    "# stratify, ensure that the train and test sets have approximately the same percentage of samples of each target class as the complete set\n",
    "X_train, X_test, y_train, y_test = train_test_split(X,y, stratify=y, random_state=42) # default 75% train 25% test"
   ]
  },
  {
   "cell_type": "code",
   "execution_count": 163,
   "metadata": {},
   "outputs": [],
   "source": [
    "# define function for plotting the results\n",
    "def log_result(algo, pred_train, pred_test):\n",
    "    '''\n",
    "    Inputs and logs the performance for both training/test sets.\n",
    "    \n",
    "    Parameter\n",
    "    ---------\n",
    "    algo: str\n",
    "        ML algorithm name\n",
    "    pred_train: numpy.ndarray\n",
    "        train prediction scores\n",
    "    pred_test: numpy.ndarray\n",
    "        test prediction scores\n",
    "    '''\n",
    "    # compute the performance\n",
    "    f1_train = f1_score(y_train, pred_train)\n",
    "    f1_test = f1_score(y_test, pred_test)\n",
    "    auc_train = roc_auc_score(y_train, pred_train)\n",
    "    auc_test = roc_auc_score(y_test, pred_test)\n",
    "    \n",
    "    # log the performance\n",
    "    score_table_df.loc[algo,:] = f1_train, auc_train, f1_test, auc_test"
   ]
  },
  {
   "cell_type": "markdown",
   "metadata": {},
   "source": [
    "### Checking Baseline Model Performance"
   ]
  },
  {
   "cell_type": "code",
   "execution_count": 167,
   "metadata": {},
   "outputs": [],
   "source": [
    "# Instantiate all ML algorithms\n",
    "rf = RandomForestClassifier(class_weight='balanced') # instantiate and adjust for imbalanced dataset\n",
    "lr = LogisticRegression()\n",
    "svc = SVC()\n",
    "\n",
    "# Train\n",
    "rf.fit(X_train, y_train)\n",
    "pred_train = rf.predict(X_train)\n",
    "pred_test = rf.predict(X_test)\n",
    "\n",
    "# Log model performance\n",
    "log_result(\"RandomForest\", pred_train, pred_test)"
   ]
  },
  {
   "cell_type": "code",
   "execution_count": 168,
   "metadata": {},
   "outputs": [],
   "source": [
    "# SVC\n",
    "# Train\n",
    "svc.fit(X_train, y_train)\n",
    "pred_train = svc.predict(X_train)\n",
    "pred_test = svc.predict(X_test)\n",
    "\n",
    "# Log model performance\n",
    "log_result(\"SVC\", pred_train, pred_test)"
   ]
  },
  {
   "cell_type": "code",
   "execution_count": 169,
   "metadata": {},
   "outputs": [],
   "source": [
    "# LOGISTIC REGRESSION\n",
    "# Train\n",
    "lr.fit(X_train, y_train)\n",
    "pred_train = lr.predict(X_train)\n",
    "pred_test = lr.predict(X_test)\n",
    "\n",
    "# Log model performance\n",
    "log_result(\"LogisticRegression\", pred_train, pred_test)"
   ]
  },
  {
   "cell_type": "code",
   "execution_count": 170,
   "metadata": {},
   "outputs": [
    {
     "data": {
      "text/html": [
       "<div>\n",
       "<style scoped>\n",
       "    .dataframe tbody tr th:only-of-type {\n",
       "        vertical-align: middle;\n",
       "    }\n",
       "\n",
       "    .dataframe tbody tr th {\n",
       "        vertical-align: top;\n",
       "    }\n",
       "\n",
       "    .dataframe thead th {\n",
       "        text-align: right;\n",
       "    }\n",
       "</style>\n",
       "<table border=\"1\" class=\"dataframe\">\n",
       "  <thead>\n",
       "    <tr style=\"text-align: right;\">\n",
       "      <th></th>\n",
       "      <th>f1_score_train</th>\n",
       "      <th>auc_train</th>\n",
       "      <th>f1_score_test</th>\n",
       "      <th>auc_test</th>\n",
       "    </tr>\n",
       "  </thead>\n",
       "  <tbody>\n",
       "    <tr>\n",
       "      <th>RandomForest</th>\n",
       "      <td>0.971377</td>\n",
       "      <td>0.988744</td>\n",
       "      <td>0.875</td>\n",
       "      <td>0.93162</td>\n",
       "    </tr>\n",
       "    <tr>\n",
       "      <th>SVC</th>\n",
       "      <td>0.894477</td>\n",
       "      <td>0.915014</td>\n",
       "      <td>0.884273</td>\n",
       "      <td>0.908677</td>\n",
       "    </tr>\n",
       "    <tr>\n",
       "      <th>LogisticRegression</th>\n",
       "      <td>0.885312</td>\n",
       "      <td>0.903735</td>\n",
       "      <td>0.868902</td>\n",
       "      <td>0.892027</td>\n",
       "    </tr>\n",
       "  </tbody>\n",
       "</table>\n",
       "</div>"
      ],
      "text/plain": [
       "                   f1_score_train auc_train f1_score_test  auc_test\n",
       "RandomForest             0.971377  0.988744         0.875   0.93162\n",
       "SVC                      0.894477  0.915014      0.884273  0.908677\n",
       "LogisticRegression       0.885312  0.903735      0.868902  0.892027"
      ]
     },
     "execution_count": 170,
     "metadata": {},
     "output_type": "execute_result"
    }
   ],
   "source": [
    "score_table_df"
   ]
  },
  {
   "cell_type": "markdown",
   "metadata": {},
   "source": [
    "### Hyperparameter Tuning the Random Forest\n",
    "Based on overall AUC score, Random Forest model resulted with best score using default parameters. We will be tuning Random Forest using RandomizedSearchCV."
   ]
  },
  {
   "cell_type": "code",
   "execution_count": 173,
   "metadata": {},
   "outputs": [],
   "source": [
    "# RANDOM FOREST PARAMETERS\n",
    "\n",
    "# Number of trees in random forest\n",
    "n_estimators = [int(x) for x in np.linspace(start = 20, stop = 100, num = 5)]\n",
    "# Number of features to consider at every split\n",
    "max_features = ['auto', 'sqrt']\n",
    "# Maximum number of levels in tree\n",
    "max_depth = [int(x) for x in np.linspace(10, 110, num = 11)]\n",
    "max_depth.append(None)\n",
    "# Minimum number of samples required to split a node\n",
    "min_samples_split = [2, 5, 10]\n",
    "# Minimum number of samples required at each leaf node\n",
    "min_samples_leaf = [1, 2, 4]\n",
    "# Method of selecting samples for training each tree\n",
    "bootstrap = [True, False]\n",
    "\n",
    "# Create the random grid\n",
    "random_grid = {'n_estimators': n_estimators,\n",
    "               'max_features': max_features,\n",
    "               'max_depth': max_depth,\n",
    "               'min_samples_split': min_samples_split,\n",
    "               'min_samples_leaf': min_samples_leaf,\n",
    "               'bootstrap': bootstrap}\n"
   ]
  },
  {
   "cell_type": "code",
   "execution_count": 175,
   "metadata": {},
   "outputs": [
    {
     "name": "stdout",
     "output_type": "stream",
     "text": [
      "Fitting 3 folds for each of 100 candidates, totalling 300 fits\n"
     ]
    },
    {
     "name": "stderr",
     "output_type": "stream",
     "text": [
      "[Parallel(n_jobs=-1)]: Using backend LokyBackend with 16 concurrent workers.\n",
      "[Parallel(n_jobs=-1)]: Done   9 tasks      | elapsed:    1.6s\n",
      "[Parallel(n_jobs=-1)]: Done 130 tasks      | elapsed:    3.3s\n",
      "[Parallel(n_jobs=-1)]: Done 300 out of 300 | elapsed:    5.6s finished\n"
     ]
    },
    {
     "data": {
      "text/plain": [
       "RandomizedSearchCV(cv=3, estimator=RandomForestClassifier(), n_iter=100,\n",
       "                   n_jobs=-1,\n",
       "                   param_distributions={'bootstrap': [True, False],\n",
       "                                        'max_depth': [10, 20, 30, 40, 50, 60,\n",
       "                                                      70, 80, 90, 100, 110,\n",
       "                                                      None],\n",
       "                                        'max_features': ['auto', 'sqrt'],\n",
       "                                        'min_samples_leaf': [1, 2, 4],\n",
       "                                        'min_samples_split': [2, 5, 10],\n",
       "                                        'n_estimators': [20, 40, 60, 80, 100]},\n",
       "                   random_state=42, verbose=2)"
      ]
     },
     "execution_count": 175,
     "metadata": {},
     "output_type": "execute_result"
    }
   ],
   "source": [
    "# Use the random grid to search for best hyperparameters\n",
    "rf = RandomForestClassifier() # First create the base model to tune\n",
    "\n",
    "# Random search of parameters, using 3 fold cross validation, \n",
    "# search across 100 different combinations, and use all available cores\n",
    "rf_random = RandomizedSearchCV(estimator = rf, param_distributions = random_grid, n_iter = 100, cv = 3, verbose=2, random_state=42, n_jobs = -1)\n",
    "\n",
    "# Fit the random search model\n",
    "rf_random.fit(X_train, y_train)\n"
   ]
  },
  {
   "cell_type": "code",
   "execution_count": 176,
   "metadata": {},
   "outputs": [
    {
     "data": {
      "text/plain": [
       "{'n_estimators': 20,\n",
       " 'min_samples_split': 5,\n",
       " 'min_samples_leaf': 4,\n",
       " 'max_features': 'sqrt',\n",
       " 'max_depth': 70,\n",
       " 'bootstrap': True}"
      ]
     },
     "execution_count": 176,
     "metadata": {},
     "output_type": "execute_result"
    }
   ],
   "source": [
    "rf_random.best_params_"
   ]
  },
  {
   "cell_type": "code",
   "execution_count": 177,
   "metadata": {},
   "outputs": [
    {
     "data": {
      "text/plain": [
       "0.9788422148349619"
      ]
     },
     "execution_count": 177,
     "metadata": {},
     "output_type": "execute_result"
    }
   ],
   "source": [
    "rf_random.best_score_"
   ]
  },
  {
   "cell_type": "code",
   "execution_count": 180,
   "metadata": {},
   "outputs": [],
   "source": [
    "# Update Random Forest using best parameters\n",
    "rf = RandomForestClassifier(n_estimators=20, \n",
    "                            min_samples_split=5,\n",
    "                            min_samples_leaf=4,\n",
    "                            max_features='sqrt',\n",
    "                            max_depth=70,\n",
    "                            bootstrap=True,\n",
    "                            class_weight='balanced')\n",
    "\n",
    "rf.fit(X_train,y_train)\n",
    "pred_train = rf.predict(X_train)\n",
    "pred_test = rf.predict(X_test)\n",
    "\n",
    "log_result(\"RandomForest\", pred_train, pred_test)"
   ]
  },
  {
   "cell_type": "code",
   "execution_count": 181,
   "metadata": {},
   "outputs": [
    {
     "data": {
      "text/plain": [
       "f1_score_train    0.931979\n",
       "auc_train         0.975328\n",
       "f1_score_test     0.884021\n",
       "auc_test          0.955557\n",
       "Name: RandomForest, dtype: object"
      ]
     },
     "execution_count": 181,
     "metadata": {},
     "output_type": "execute_result"
    }
   ],
   "source": [
    "score_table_df.loc['RandomForest']"
   ]
  },
  {
   "cell_type": "code",
   "execution_count": 184,
   "metadata": {},
   "outputs": [
    {
     "data": {
      "text/plain": [
       "array([0.00195907, 0.00159744, 0.00255073, 0.00068576, 0.00067314,\n",
       "       0.00076942, 0.00070331, 0.00063792, 0.40243354, 0.58798967])"
      ]
     },
     "execution_count": 184,
     "metadata": {},
     "output_type": "execute_result"
    }
   ],
   "source": [
    "rf.feature_importances_"
   ]
  },
  {
   "cell_type": "code",
   "execution_count": 185,
   "metadata": {},
   "outputs": [
    {
     "name": "stdout",
     "output_type": "stream",
     "text": [
      "                      feature  importance\n",
      "9                  time_delta    0.587990\n",
      "8                active_weeks    0.402434\n",
      "2             s__guest_invite    0.002551\n",
      "0    opted_in_to_mailing_list    0.001959\n",
      "1  enabled_for_marketing_drip    0.001597\n",
      "5                   s__signup    0.000769\n",
      "6       s__signup_google_auth    0.000703\n",
      "3               s__org_invite    0.000686\n",
      "4        s__personal_projects    0.000673\n",
      "7                     invited    0.000638\n"
     ]
    }
   ],
   "source": [
    "# feature importance ranking from the optimized RandomForestClassifier \n",
    "rank_df = pd.DataFrame({'feature': X_train.columns, 'importance': rf.feature_importances_})\n",
    "print(rank_df.sort_values(by='importance',ascending=False))"
   ]
  },
  {
   "cell_type": "markdown",
   "metadata": {},
   "source": [
    "## Summary\n",
    "Through RandomSearchCV, made approximately 3% improvement on AUC score and 1% improvement for F1-score. As it is shown above, time_delta and active_weeks came out to be best predictors in identifying adopted users."
   ]
  }
 ],
 "metadata": {
  "kernelspec": {
   "display_name": "Python 3",
   "language": "python",
   "name": "python3"
  },
  "language_info": {
   "codemirror_mode": {
    "name": "ipython",
    "version": 3
   },
   "file_extension": ".py",
   "mimetype": "text/x-python",
   "name": "python",
   "nbconvert_exporter": "python",
   "pygments_lexer": "ipython3",
   "version": "3.8.5"
  }
 },
 "nbformat": 4,
 "nbformat_minor": 4
}
